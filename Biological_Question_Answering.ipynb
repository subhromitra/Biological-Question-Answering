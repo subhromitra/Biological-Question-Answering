{
 "cells": [
  {
   "cell_type": "code",
   "execution_count": 1,
   "metadata": {
    "colab": {
     "base_uri": "https://localhost:8080/"
    },
    "id": "8Gtu3Legrblw",
    "outputId": "8e3fb0e4-4a31-4f5c-a239-3d61535bef27"
   },
   "outputs": [
    {
     "name": "stdout",
     "output_type": "stream",
     "text": [
      "GPU 0: Tesla K80 (UUID: GPU-180cacfa-104a-ea8c-e65a-0642bc7e6946)\n"
     ]
    }
   ],
   "source": [
    "!nvidia-smi -L"
   ]
  },
  {
   "cell_type": "markdown",
   "metadata": {
    "id": "nGSE2Ds1_jkq"
   },
   "source": [
    "## Fetching data"
   ]
  },
  {
   "cell_type": "code",
   "execution_count": 2,
   "metadata": {
    "colab": {
     "base_uri": "https://localhost:8080/"
    },
    "id": "N6-G8PvyEhk4",
    "outputId": "d975ee68-a1fa-4eba-98c9-8612494d7391"
   },
   "outputs": [
    {
     "name": "stdout",
     "output_type": "stream",
     "text": [
      "Downloading...\n",
      "From: https://drive.google.com/uc?id=19ft5q44W4SuptJgTwR84xZjsHg1jvjSZ\n",
      "To: /content/QA.zip\n",
      "\r",
      "  0% 0.00/5.48M [00:00<?, ?B/s]\r",
      " 86% 4.72M/5.48M [00:00<00:00, 26.2MB/s]\r",
      "100% 5.48M/5.48M [00:00<00:00, 25.5MB/s]\n"
     ]
    }
   ],
   "source": [
    "## Downloading data. For more info about data check this link - https://github.com/dmis-lab/biobert\n",
    "!gdown --id 19ft5q44W4SuptJgTwR84xZjsHg1jvjSZ"
   ]
  },
  {
   "cell_type": "code",
   "execution_count": 3,
   "metadata": {
    "id": "H8eB_pWpHfsM"
   },
   "outputs": [],
   "source": [
    "!unzip -q QA.zip -d QA_dataset"
   ]
  },
  {
   "cell_type": "markdown",
   "metadata": {
    "id": "0_xDQqGgIdTx"
   },
   "source": [
    "**In the folder QA_dataset/BioASQ we have many JSON files. We would be using the train-factoid files for fine-tuning our model.**"
   ]
  },
  {
   "cell_type": "markdown",
   "metadata": {
    "id": "IlNfkr1aTmxs"
   },
   "source": [
    "## Importing necessary libraries :"
   ]
  },
  {
   "cell_type": "code",
   "execution_count": 4,
   "metadata": {
    "id": "1Q-UVM_eAttf"
   },
   "outputs": [],
   "source": [
    "import os\n",
    "import json\n",
    "import pandas as pd\n",
    "import numpy as np\n",
    "import random"
   ]
  },
  {
   "cell_type": "markdown",
   "metadata": {
    "id": "2r5NeqjBTrY3"
   },
   "source": [
    "## Extracting questions & answers from JSON files :"
   ]
  },
  {
   "cell_type": "code",
   "execution_count": 5,
   "metadata": {
    "id": "dyk6pt1sIVue"
   },
   "outputs": [],
   "source": [
    "def extract_QA(filepath):\n",
    "  with open(filepath, 'r') as f:\n",
    "    data = json.load(f)\n",
    "\n",
    "  questions = data['data'][0]['paragraphs']\n",
    "  data_rows = []\n",
    "\n",
    "  for question in questions:\n",
    "    context = question['context']\n",
    "    for qa in question['qas']:\n",
    "      question = qa[\"question\"]\n",
    "      answers = qa['answers']\n",
    "\n",
    "      for answer in answers:\n",
    "        answer_text = answer['text']\n",
    "        answer_start = answer['answer_start']\n",
    "        answer_end = answer_start + len(answer_text) - 1 \n",
    "\n",
    "        data_rows.append({\n",
    "            \"question\": question,\n",
    "            \"context\": context,\n",
    "            \"answer_text\": answer_text,\n",
    "            \"answer_start\": answer_start,\n",
    "            \"answer_end\": answer_end\n",
    "        })\n",
    "  return pd.DataFrame(data_rows)"
   ]
  },
  {
   "cell_type": "code",
   "execution_count": 6,
   "metadata": {
    "colab": {
     "base_uri": "https://localhost:8080/"
    },
    "id": "xfsoU6FATgWE",
    "outputId": "3c06a039-ce2d-4e69-d68f-006afc06d06c"
   },
   "outputs": [
    {
     "name": "stdout",
     "output_type": "stream",
     "text": [
      "(3266, 5)\n",
      "(4950, 5)\n",
      "(4772, 5)\n"
     ]
    }
   ],
   "source": [
    "dfs = []\n",
    "filepaths = ['/content/QA_dataset/BioASQ/BioASQ-train-factoid-4b.json',\n",
    "             '/content/QA_dataset/BioASQ/BioASQ-train-factoid-5b.json',\n",
    "             '/content/QA_dataset/BioASQ/BioASQ-train-factoid-6b.json']\n",
    "\n",
    "for filepath in filepaths:\n",
    "  df = extract_QA(filepath)\n",
    "  print(df.shape)\n",
    "  dfs.append(df)             "
   ]
  },
  {
   "cell_type": "code",
   "execution_count": 7,
   "metadata": {
    "colab": {
     "base_uri": "https://localhost:8080/",
     "height": 223
    },
    "id": "HLNfHPp8VVdH",
    "outputId": "73ab58b4-f68b-4554-97e0-1bf97e999a19"
   },
   "outputs": [
    {
     "name": "stdout",
     "output_type": "stream",
     "text": [
      "(12988, 5)\n"
     ]
    },
    {
     "data": {
      "text/html": [
       "<div>\n",
       "<style scoped>\n",
       "    .dataframe tbody tr th:only-of-type {\n",
       "        vertical-align: middle;\n",
       "    }\n",
       "\n",
       "    .dataframe tbody tr th {\n",
       "        vertical-align: top;\n",
       "    }\n",
       "\n",
       "    .dataframe thead th {\n",
       "        text-align: right;\n",
       "    }\n",
       "</style>\n",
       "<table border=\"1\" class=\"dataframe\">\n",
       "  <thead>\n",
       "    <tr style=\"text-align: right;\">\n",
       "      <th></th>\n",
       "      <th>question</th>\n",
       "      <th>context</th>\n",
       "      <th>answer_text</th>\n",
       "      <th>answer_start</th>\n",
       "      <th>answer_end</th>\n",
       "    </tr>\n",
       "  </thead>\n",
       "  <tbody>\n",
       "    <tr>\n",
       "      <th>0</th>\n",
       "      <td>What is the inheritance pattern of Li–Fraumeni...</td>\n",
       "      <td>Balanced t(11;15)(q23;q15) in a TP53+/+ breast...</td>\n",
       "      <td>autosomal dominant</td>\n",
       "      <td>213</td>\n",
       "      <td>230</td>\n",
       "    </tr>\n",
       "    <tr>\n",
       "      <th>1</th>\n",
       "      <td>What is the inheritance pattern of Li–Fraumeni...</td>\n",
       "      <td>Genetic modeling of Li-Fraumeni syndrome in ze...</td>\n",
       "      <td>autosomal dominant</td>\n",
       "      <td>105</td>\n",
       "      <td>122</td>\n",
       "    </tr>\n",
       "    <tr>\n",
       "      <th>2</th>\n",
       "      <td>Which type of lung cancer is afatinib used for?</td>\n",
       "      <td>Clinical perspective of afatinib in non-small ...</td>\n",
       "      <td>EGFR-mutant NSCLC</td>\n",
       "      <td>1203</td>\n",
       "      <td>1219</td>\n",
       "    </tr>\n",
       "    <tr>\n",
       "      <th>3</th>\n",
       "      <td>Which hormone abnormalities are characteristic...</td>\n",
       "      <td>DOCA sensitive pendrin expression in kidney, h...</td>\n",
       "      <td>thyroid</td>\n",
       "      <td>419</td>\n",
       "      <td>425</td>\n",
       "    </tr>\n",
       "    <tr>\n",
       "      <th>4</th>\n",
       "      <td>Which hormone abnormalities are characteristic...</td>\n",
       "      <td>Clinical and molecular characteristics of Pend...</td>\n",
       "      <td>thyroid</td>\n",
       "      <td>705</td>\n",
       "      <td>711</td>\n",
       "    </tr>\n",
       "  </tbody>\n",
       "</table>\n",
       "</div>"
      ],
      "text/plain": [
       "                                            question  ... answer_end\n",
       "0  What is the inheritance pattern of Li–Fraumeni...  ...        230\n",
       "1  What is the inheritance pattern of Li–Fraumeni...  ...        122\n",
       "2    Which type of lung cancer is afatinib used for?  ...       1219\n",
       "3  Which hormone abnormalities are characteristic...  ...        425\n",
       "4  Which hormone abnormalities are characteristic...  ...        711\n",
       "\n",
       "[5 rows x 5 columns]"
      ]
     },
     "execution_count": 7,
     "metadata": {},
     "output_type": "execute_result"
    }
   ],
   "source": [
    "df_conc = pd.concat(dfs)\n",
    "print(df_conc.shape)\n",
    "df_conc.head()"
   ]
  },
  {
   "cell_type": "markdown",
   "metadata": {
    "id": "L3ySiBziCB7C"
   },
   "source": [
    "**Total no.of of context, question pairs is 12988. But not all of them are unique.**"
   ]
  },
  {
   "cell_type": "code",
   "execution_count": null,
   "metadata": {
    "colab": {
     "base_uri": "https://localhost:8080/"
    },
    "id": "Xe7-J1t4VeCW",
    "outputId": "616aab97-31b0-40a3-b360-e74a0bae08b3"
   },
   "outputs": [
    {
     "data": {
      "text/plain": [
       "2582"
      ]
     },
     "execution_count": 8,
     "metadata": {},
     "output_type": "execute_result"
    }
   ],
   "source": [
    "## No.of unique contexts\n",
    "len(df_conc['context'].unique())"
   ]
  },
  {
   "cell_type": "code",
   "execution_count": null,
   "metadata": {
    "colab": {
     "base_uri": "https://localhost:8080/"
    },
    "id": "BsC1Rvjx_8vy",
    "outputId": "5db66d87-4df3-482c-db6a-58a2fa6bc4e5"
   },
   "outputs": [
    {
     "data": {
      "text/plain": [
       "443"
      ]
     },
     "execution_count": 11,
     "metadata": {},
     "output_type": "execute_result"
    }
   ],
   "source": [
    "## Nol of unique questions\n",
    "len(df_conc['question'].unique())"
   ]
  },
  {
   "cell_type": "markdown",
   "metadata": {
    "id": "n9FTvGXrAGTh"
   },
   "source": [
    "**We have 2582 unique contexts & 443 unique questions. We will be using the unique contexts only for fine-tuning our model.**"
   ]
  },
  {
   "cell_type": "code",
   "execution_count": 8,
   "metadata": {
    "colab": {
     "base_uri": "https://localhost:8080/",
     "height": 205
    },
    "id": "jGC5ANbeWEu6",
    "outputId": "698d06be-2cab-4a7a-e4ae-e445496cbf97"
   },
   "outputs": [
    {
     "data": {
      "text/html": [
       "<div>\n",
       "<style scoped>\n",
       "    .dataframe tbody tr th:only-of-type {\n",
       "        vertical-align: middle;\n",
       "    }\n",
       "\n",
       "    .dataframe tbody tr th {\n",
       "        vertical-align: top;\n",
       "    }\n",
       "\n",
       "    .dataframe thead th {\n",
       "        text-align: right;\n",
       "    }\n",
       "</style>\n",
       "<table border=\"1\" class=\"dataframe\">\n",
       "  <thead>\n",
       "    <tr style=\"text-align: right;\">\n",
       "      <th></th>\n",
       "      <th>question</th>\n",
       "      <th>context</th>\n",
       "      <th>answer_text</th>\n",
       "      <th>answer_start</th>\n",
       "      <th>answer_end</th>\n",
       "    </tr>\n",
       "  </thead>\n",
       "  <tbody>\n",
       "    <tr>\n",
       "      <th>0</th>\n",
       "      <td>What is the inheritance pattern of Li–Fraumeni...</td>\n",
       "      <td>Balanced t(11;15)(q23;q15) in a TP53+/+ breast...</td>\n",
       "      <td>autosomal dominant</td>\n",
       "      <td>213</td>\n",
       "      <td>230</td>\n",
       "    </tr>\n",
       "    <tr>\n",
       "      <th>1</th>\n",
       "      <td>What is the inheritance pattern of Li–Fraumeni...</td>\n",
       "      <td>Genetic modeling of Li-Fraumeni syndrome in ze...</td>\n",
       "      <td>autosomal dominant</td>\n",
       "      <td>105</td>\n",
       "      <td>122</td>\n",
       "    </tr>\n",
       "    <tr>\n",
       "      <th>2</th>\n",
       "      <td>Which type of lung cancer is afatinib used for?</td>\n",
       "      <td>Clinical perspective of afatinib in non-small ...</td>\n",
       "      <td>EGFR-mutant NSCLC</td>\n",
       "      <td>1203</td>\n",
       "      <td>1219</td>\n",
       "    </tr>\n",
       "    <tr>\n",
       "      <th>3</th>\n",
       "      <td>Which hormone abnormalities are characteristic...</td>\n",
       "      <td>DOCA sensitive pendrin expression in kidney, h...</td>\n",
       "      <td>thyroid</td>\n",
       "      <td>419</td>\n",
       "      <td>425</td>\n",
       "    </tr>\n",
       "    <tr>\n",
       "      <th>4</th>\n",
       "      <td>Which hormone abnormalities are characteristic...</td>\n",
       "      <td>Clinical and molecular characteristics of Pend...</td>\n",
       "      <td>thyroid</td>\n",
       "      <td>705</td>\n",
       "      <td>711</td>\n",
       "    </tr>\n",
       "  </tbody>\n",
       "</table>\n",
       "</div>"
      ],
      "text/plain": [
       "                                            question  ... answer_end\n",
       "0  What is the inheritance pattern of Li–Fraumeni...  ...        230\n",
       "1  What is the inheritance pattern of Li–Fraumeni...  ...        122\n",
       "2    Which type of lung cancer is afatinib used for?  ...       1219\n",
       "3  Which hormone abnormalities are characteristic...  ...        425\n",
       "4  Which hormone abnormalities are characteristic...  ...        711\n",
       "\n",
       "[5 rows x 5 columns]"
      ]
     },
     "execution_count": 8,
     "metadata": {},
     "output_type": "execute_result"
    }
   ],
   "source": [
    "## Dropping duplicate contexts\n",
    "df_deduped = df_conc.drop_duplicates(subset=[\"context\"], keep='first')\n",
    "df_deduped.head()"
   ]
  },
  {
   "cell_type": "code",
   "execution_count": 9,
   "metadata": {
    "colab": {
     "base_uri": "https://localhost:8080/"
    },
    "id": "W8s1SoXlk8zh",
    "outputId": "1193e142-7685-4b2a-a6f9-0dca46285074"
   },
   "outputs": [
    {
     "data": {
      "text/plain": [
       "(2582, 5)"
      ]
     },
     "execution_count": 9,
     "metadata": {},
     "output_type": "execute_result"
    }
   ],
   "source": [
    "df_deduped.shape"
   ]
  },
  {
   "cell_type": "code",
   "execution_count": null,
   "metadata": {
    "id": "fNGvcMQjlBvy"
   },
   "outputs": [],
   "source": [
    "# df_deduped.to_csv(\"Biological_QA.csv\", index=False)\n",
    "# print(\"File saved !!!\")"
   ]
  },
  {
   "cell_type": "markdown",
   "metadata": {
    "id": "PXphKvA_Tzft"
   },
   "source": [
    "## Splitting data into 2 parts :"
   ]
  },
  {
   "cell_type": "code",
   "execution_count": 10,
   "metadata": {
    "colab": {
     "base_uri": "https://localhost:8080/"
    },
    "id": "q_NJzqd9tFWB",
    "outputId": "78443316-283e-47ab-ad5a-9668e54f4fa1"
   },
   "outputs": [
    {
     "name": "stdout",
     "output_type": "stream",
     "text": [
      "(2194, 5)\n",
      "(388, 5)\n"
     ]
    }
   ],
   "source": [
    "from sklearn.model_selection import train_test_split\n",
    "\n",
    "df_train, df_test = train_test_split(df_deduped, test_size=0.15, random_state = 2021)\n",
    "print(df_train.shape)\n",
    "print(df_test.shape)"
   ]
  },
  {
   "cell_type": "code",
   "execution_count": 11,
   "metadata": {
    "colab": {
     "base_uri": "https://localhost:8080/"
    },
    "id": "N20fFqKmA5L_",
    "outputId": "70992fa2-1409-4805-d51f-46e860eb53e2"
   },
   "outputs": [
    {
     "name": "stdout",
     "output_type": "stream",
     "text": [
      "(2136, 5)\n",
      "(378, 5)\n"
     ]
    }
   ],
   "source": [
    "## Filtering questions\n",
    "df_train = df_train[(df_train[\"answer_start\"] > 0) & (df_train[\"answer_start\"] > 0)]\n",
    "df_test = df_test[(df_test[\"answer_start\"] > 0) & (df_test[\"answer_start\"] > 0)]\n",
    "print(df_train.shape)\n",
    "print(df_test.shape)"
   ]
  },
  {
   "cell_type": "code",
   "execution_count": 12,
   "metadata": {
    "id": "azWhG3FZl6Ci"
   },
   "outputs": [],
   "source": [
    "train_contexts = list(df_train['context'].values)\n",
    "train_questions = list(df_train['question'].values)\n",
    "train_answers = list(df_train['answer_text'].values)\n",
    "train_answers_start = list(df_train['answer_start'].values)\n",
    "train_answers_end = list(df_train['answer_end'].values)\n",
    "\n",
    "## The lines below are for safety check purposes :)\n",
    "assert len(train_contexts) == len(train_questions)\n",
    "assert len(train_contexts) == len(train_answers)\n",
    "assert len(train_contexts) == len(train_answers_start)\n",
    "assert len(train_contexts) == len(train_answers_end)"
   ]
  },
  {
   "cell_type": "markdown",
   "metadata": {
    "id": "TIvP5Cg4T6Fb"
   },
   "source": [
    "## Fine-tuning model :\n",
    "\n",
    "**I would be using a pretrained DistilBert model & would retrain the model using the new dataset.**"
   ]
  },
  {
   "cell_type": "code",
   "execution_count": 13,
   "metadata": {
    "colab": {
     "base_uri": "https://localhost:8080/"
    },
    "id": "2-g3v5ZXuiBw",
    "outputId": "cbf88850-c611-4d97-e7e8-0bc61f7429b1"
   },
   "outputs": [
    {
     "name": "stdout",
     "output_type": "stream",
     "text": [
      "\u001b[K     |████████████████████████████████| 3.1 MB 4.0 MB/s \n",
      "\u001b[K     |████████████████████████████████| 895 kB 49.8 MB/s \n",
      "\u001b[K     |████████████████████████████████| 3.3 MB 34.4 MB/s \n",
      "\u001b[K     |████████████████████████████████| 596 kB 42.3 MB/s \n",
      "\u001b[K     |████████████████████████████████| 59 kB 6.7 MB/s \n",
      "\u001b[?25h"
     ]
    }
   ],
   "source": [
    "!pip install transformers --q"
   ]
  },
  {
   "cell_type": "code",
   "execution_count": 14,
   "metadata": {
    "id": "opu0pNZvla9v"
   },
   "outputs": [],
   "source": [
    "from transformers import DistilBertTokenizerFast, DistilBertForQuestionAnswering"
   ]
  },
  {
   "cell_type": "code",
   "execution_count": 15,
   "metadata": {
    "colab": {
     "base_uri": "https://localhost:8080/",
     "height": 145,
     "referenced_widgets": [
      "7433fdeefcaa4af8996e16848459e4d8",
      "fd7ac59fcf554011ab4f7f596dc031cf",
      "818bb97664494dee8a427a4e1c358b8e",
      "a0d3bb4fe9814e8e9d3f2580d6d0decd",
      "838107ce69254278b07e6fe3c9017435",
      "1f78a95c44d64ce5a7cebf74cdd55f85",
      "a31d4e23355b431ea2b3df7965f03e23",
      "44d4582dc97a4dc1a9a5b62e80d1aadf",
      "c027732c02f1427b99f28ca0c4b3f8b8",
      "d70e997c5a2d4f99b2f5df5b6616147b",
      "c177f0ec3fe8460aa715750576357c5e",
      "ddf083d7047d4ce995e5f033af37ab68",
      "b6c1eee219a041c7a5aab420d2a1fe74",
      "9c516c8ee1da4e4f836f48a6ed636366",
      "d51660f7708f474ba48a5f31751ca6ab",
      "8f32d7860a854a93937c82227c167458",
      "520ac745daa0490ca7cf4ca3d69c4d24",
      "94401c41cab84a989b59b6719aacd5ed",
      "7e3be01a49504a49b9217e750b061a5f",
      "5c90da654ae84e7b9ba12b56c4c2d3e9",
      "5cda8384461b4231aed1a1afc0353d3a",
      "57587f6931694cadb017d55a42799977",
      "d42f888f2ed140ae893451947617cc1f",
      "8e32347de3f54edd872d3596e6537c1b",
      "6a9eb39aee7643bd87ac7f82d658e2c7",
      "47bbfc31ce7940f08ba006e9eedc69cb",
      "5601c6146d6144eeb42bd8d59000aa9b",
      "295e915919a74129a14c4c1c0fa3efe4",
      "70278494112f4a488fb2b001cc578961",
      "0660e8f345bd4a2e81500cc01c7f28a1",
      "008344a449d247a3b73508bc967590ff",
      "67e9de6ab28e4e7dbe17986df18f16fc",
      "d4603121b7ea450abefad2bb54fd0322",
      "d66bbf255096440c9d6da01b054bb4cf",
      "cfdc9461800f482189dbb7c2c0563108",
      "211d891f16f948e39d84298aeac83366",
      "6fc49a640bf04b53b611503483b45b7f",
      "bed71e3648ae4224a7f800c0d553f2ea",
      "60e3ddd8386740fdad4c1f58b63919d4",
      "9f1476494ac14f64adea351311f8a8d4",
      "349e9720b5eb479388cf23e082033e5b",
      "9bf0ed96e3e24dc7b5024f6f38da644d",
      "41c2ae175be34b1abcde40905a8dca58",
      "4c0cec8e59944997a6a3425a76ed3df9"
     ]
    },
    "id": "ATIIQtAem45G",
    "outputId": "8b349716-9e37-4c4d-f23c-f0a468084932"
   },
   "outputs": [
    {
     "data": {
      "application/vnd.jupyter.widget-view+json": {
       "model_id": "7433fdeefcaa4af8996e16848459e4d8",
       "version_major": 2,
       "version_minor": 0
      },
      "text/plain": [
       "Downloading:   0%|          | 0.00/226k [00:00<?, ?B/s]"
      ]
     },
     "metadata": {},
     "output_type": "display_data"
    },
    {
     "data": {
      "application/vnd.jupyter.widget-view+json": {
       "model_id": "ddf083d7047d4ce995e5f033af37ab68",
       "version_major": 2,
       "version_minor": 0
      },
      "text/plain": [
       "Downloading:   0%|          | 0.00/455k [00:00<?, ?B/s]"
      ]
     },
     "metadata": {},
     "output_type": "display_data"
    },
    {
     "data": {
      "application/vnd.jupyter.widget-view+json": {
       "model_id": "d42f888f2ed140ae893451947617cc1f",
       "version_major": 2,
       "version_minor": 0
      },
      "text/plain": [
       "Downloading:   0%|          | 0.00/28.0 [00:00<?, ?B/s]"
      ]
     },
     "metadata": {},
     "output_type": "display_data"
    },
    {
     "data": {
      "application/vnd.jupyter.widget-view+json": {
       "model_id": "d66bbf255096440c9d6da01b054bb4cf",
       "version_major": 2,
       "version_minor": 0
      },
      "text/plain": [
       "Downloading:   0%|          | 0.00/483 [00:00<?, ?B/s]"
      ]
     },
     "metadata": {},
     "output_type": "display_data"
    }
   ],
   "source": [
    "MODEL_NAME = 'distilbert-base-uncased'\n",
    "tokenizer = DistilBertTokenizerFast.from_pretrained(MODEL_NAME)\n",
    "\n",
    "train_encodings = tokenizer(train_contexts, train_questions, truncation=True, padding=True)"
   ]
  },
  {
   "cell_type": "code",
   "execution_count": null,
   "metadata": {
    "id": "Ci7jKsAYud2b"
   },
   "outputs": [],
   "source": [
    "# train_encodings.char_to_token(4,705)"
   ]
  },
  {
   "cell_type": "code",
   "execution_count": null,
   "metadata": {
    "colab": {
     "base_uri": "https://localhost:8080/"
    },
    "id": "SEMwvircyucc",
    "outputId": "4ad489c5-b703-4ede-8193-c90cf0efd771"
   },
   "outputs": [
    {
     "data": {
      "text/plain": [
       "CharSpan(start=723, end=725)"
      ]
     },
     "execution_count": 18,
     "metadata": {},
     "output_type": "execute_result"
    }
   ],
   "source": [
    "# train_encodings.token_to_chars(171)"
   ]
  },
  {
   "cell_type": "code",
   "execution_count": 16,
   "metadata": {
    "colab": {
     "base_uri": "https://localhost:8080/"
    },
    "id": "cfcf9QnA2BfH",
    "outputId": "5bf50e41-7670-4403-9be9-ed3dd0538435"
   },
   "outputs": [
    {
     "name": "stdout",
     "output_type": "stream",
     "text": [
      "[150, 249, 69, 83, 38, 478, 208, 185, 59, 80, 278, 104, 35, 46, 122, 69, 178, 35, 23, 71, 170, 107, 17, 95, 34, 39, 50, 73, 36, 33, 55, 172, 13, 75, 152, 57, 172, 37, 86, 6, 39, 41, 11, 26, 42, 7, 22, 84, 96, 114, 36, 21, 42, 311, 17, 209, 92, 37, 27, 278, 7, 111, 34, 11, 227, 83, 54, 259, 26, 137, 152, 77, 48, 60, 21, 65, 23, 429, 58, 36, 37, 55, 31, 17, 109, 46, 8, 49, 145, 136, 289, 512, 23, 121, 59, 233, 91, 82, 64, 56, 215, 64, 31, 6, 56, 105, 185, 115, 87, 44, 229, 26, 27, 37, 84, 82, 29, 69, 95, 180, 109, 85, 131, 40, 30, 8, 37, 122, 67, 181, 87, 48, 115, 137, 142, 275, 7, 18, 124, 162, 40, 27, 26, 17, 106, 42, 144, 111, 45, 60, 57, 7, 297, 248, 214, 26, 97, 91, 39, 31, 127, 55, 113, 15, 94, 20, 15, 62, 95, 24, 295, 83, 25, 24, 21, 121, 30, 57, 48, 8, 102, 124, 57, 9, 38, 31, 388, 72, 27, 142, 29, 53, 51, 24, 432, 8, 37, 39, 45, 333, 219, 42, 177, 195, 24, 69, 67, 34, 33, 4, 109, 215, 54, 107, 10, 52, 180, 61, 147, 31, 46, 129, 236, 103, 50, 443, 266, 339, 85, 9, 28, 96, 51, 79, 62, 74, 333, 278, 79, 34, 135, 260, 151, 6, 133, 14, 9, 195, 72, 32, 13, 423, 79, 80, 15, 192, 183, 244, 31, 137, 48, 287, 119, 44, 2, 329, 22, 162, 116, 32, 71, 56, 110, 66, 291, 106, 35, 15, 59, 62, 6, 82, 377, 39, 512, 40, 61, 45, 51, 82, 164, 14, 72, 29, 61, 78, 19, 21, 109, 130, 20, 67, 54, 109, 53, 41, 26, 78, 49, 28, 25, 194, 32, 88, 40, 336, 109, 40, 51, 20, 417, 65, 118, 159, 101, 102, 149, 74, 64, 51, 17, 30, 26, 197, 30, 115, 47, 18, 81, 3, 113, 54, 66, 2, 47, 17, 17, 68, 38, 59, 42, 108, 46, 163, 28, 98, 53, 24, 54, 71, 70, 92, 22, 121, 20, 24, 23, 5, 198, 83, 369, 20, 67, 79, 23, 55, 413, 31, 258, 5, 81, 58, 47, 62, 22, 26, 35, 58, 30, 21, 150, 32, 266, 194, 58, 43, 149, 202, 46, 26, 7, 115, 27, 47, 93, 98, 135, 6, 20, 39, 45, 49, 251, 55, 73, 4, 512, 150, 44, 429, 100, 38, 512, 36, 30, 203, 170, 281, 18, 269, 5, 2, 41, 120, 20, 25, 30, 8, 43, 40, 7, 61, 37, 179, 169, 6, 177, 95, 45, 26, 225, 10, 25, 38, 16, 114, 40, 181, 170, 199, 99, 56, 89, 326, 126, 29, 52, 7, 5, 63, 17, 204, 142, 50, 41, 144, 78, 96, 78, 3, 284, 28, 145, 155, 32, 37, 10, 22, 77, 38, 167, 87, 71, 237, 79, 94, 30, 237, 92, 38, 234, 66, 105, 119, 87, 29, 74, 30, 27, 228, 39, 8, 110, 15, 80, 75, 297, 20, 39, 316, 28, 44, 28, 42, 171, 228, 33, 76, 103, 87, 43, 135, 70, 91, 20, 91, 20, 182, 84, 25, 34, 22, 106, 108, 218, 22, 259, 37, 62, 106, 152, 98, 343, 274, 197, 205, 60, 134, 50, 116, 71, 27, 6, 60, 54, 15, 56, 158, 22, 71, 75, 16, 45, 47, 19, 87, 115, 159, 122, 35, 4, 47, 36, 325, 286, 52, 158, 84, 111, 151, 151, 238, 124, 35, 58, 57, 32, 221, 113, 63, 512, 95, 41, 76, 33, 31, 265, 24, 7, 119, 47, 340, 34, 29, 21, 34, 4, 71, 12, 58, 46, 48, 128, 53, 13, 4, 25, 17, 185, 234, 140, 24, 11, 56, 100, 61, 29, 7, 5, 73, 65, 136, 13, 49, 49, 48, 79, 57, 56, 7, 41, 245, 8, 179, 115, 9, 13, 98, 39, 211, 51, 103, 154, 29, 168, 17, 109, 129, 221, 25, 105, 204, 85, 15, 29, 173, 31, 60, 252, 34, 99, 321, 290, 155, 62, 30, 47, 103, 112, 228, 101, 79, 234, 173, 30, 104, 114, 118, 109, 26, 23, 35, 221, 109, 149, 21, 121, 205, 58, 131, 80, 150, 54, 20, 31, 32, 148, 318, 64, 65, 111, 34, 122, 127, 299, 14, 21, 86, 24, 293, 103, 77, 12, 78, 48, 35, 58, 176, 40, 109, 47, 30, 170, 54, 32, 130, 287, 130, 92, 512, 248, 98, 83, 76, 65, 88, 55, 23, 59, 74, 80, 136, 58, 91, 64, 223, 304, 53, 51, 3, 47, 347, 125, 22, 28, 34, 269, 13, 47, 87, 203, 96, 33, 9, 35, 112, 32, 104, 83, 109, 512, 125, 54, 56, 133, 12, 285, 239, 52, 37, 32, 78, 268, 59, 218, 28, 23, 207, 326, 43, 52, 23, 47, 91, 52, 130, 12, 27, 2, 44, 38, 3, 36, 59, 85, 54, 108, 21, 23, 21, 29, 87, 96, 36, 124, 65, 119, 93, 190, 251, 16, 65, 22, 98, 104, 38, 333, 332, 408, 26, 89, 14, 40, 255, 87, 35, 139, 124, 339, 108, 207, 329, 113, 297, 58, 71, 9, 63, 120, 27, 49, 2, 167, 59, 108, 115, 273, 8, 39, 335, 144, 44, 69, 85, 229, 60, 33, 90, 223, 93, 6, 45, 43, 123, 60, 512, 52, 43, 149, 152, 12, 108, 13, 120, 42, 17, 25, 314, 29, 52, 35, 21, 30, 163, 51, 464, 66, 105, 31, 193, 29, 85, 191, 32, 187, 5, 42, 214, 4, 50, 10, 274, 47, 107, 47, 71, 15, 21, 62, 107, 36, 117, 114, 238, 117, 135, 512, 34, 26, 11, 33, 59, 32, 234, 28, 50, 20, 263, 51, 87, 41, 27, 61, 23, 50, 4, 136, 42, 512, 215, 49, 78, 35, 143, 14, 158, 53, 179, 17, 58, 21, 82, 36, 181, 37, 23, 74, 72, 229, 2, 89, 76, 45, 9, 54, 22, 13, 79, 308, 85, 69, 9, 12, 82, 100, 50, 91, 32, 135, 90, 101, 33, 358, 207, 46, 10, 65, 29, 84, 22, 35, 208, 211, 27, 36, 68, 149, 189, 53, 79, 31, 26, 199, 37, 36, 53, 390, 20, 361, 172, 4, 89, 41, 77, 19, 18, 52, 60, 37, 90, 3, 147, 35, 8, 64, 28, 110, 205, 57, 37, 58, 65, 304, 118, 24, 198, 512, 101, 32, 34, 36, 2, 14, 6, 19, 78, 18, 129, 143, 112, 57, 14, 71, 10, 102, 117, 136, 57, 141, 58, 47, 346, 234, 38, 18, 17, 24, 123, 42, 51, 35, 161, 58, 29, 234, 50, 192, 59, 176, 154, 242, 5, 46, 133, 29, 14, 95, 274, 48, 300, 124, 50, 42, 29, 43, 61, 8, 328, 41, 245, 55, 21, 87, 125, 95, 15, 8, 52, 38, 95, 89, 71, 270, 17, 38, 113, 23, 85, 48, 22, 107, 39, 22, 25, 67, 68, 29, 37, 44, 32, 32, 10, 150, 27, 57, 99, 43, 184, 453, 58, 10, 137, 37, 492, 20, 51, 108, 118, 162, 12, 20, 13, 166, 72, 6, 112, 251, 93, 36, 65, 106, 112, 140, 54, 29, 197, 12, 512, 198, 120, 192, 51, 141, 99, 123, 203, 29, 82, 31, 47, 40, 53, 61, 70, 40, 337, 4, 6, 512, 354, 33, 53, 73, 210, 68, 11, 169, 165, 339, 37, 125, 58, 9, 280, 56, 29, 31, 334, 25, 40, 19, 27, 195, 19, 29, 236, 13, 19, 21, 110, 6, 7, 52, 82, 39, 39, 186, 7, 48, 352, 100, 96, 58, 161, 117, 34, 2, 40, 52, 14, 34, 86, 23, 214, 62, 4, 29, 53, 44, 35, 204, 229, 288, 30, 43, 117, 10, 69, 286, 62, 63, 39, 28, 50, 99, 16, 80, 188, 84, 35, 56, 33, 41, 164, 34, 63, 136, 68, 67, 48, 338, 5, 45, 97, 290, 85, 37, 42, 68, 89, 3, 104, 77, 45, 43, 140, 330, 179, 13, 50, 37, 4, 28, 18, 190, 262, 72, 47, 85, 53, 305, 60, 7, 183, 25, 47, 88, 118, 125, 22, 236, 19, 26, 50, 125, 27, 147, 76, 273, 27, 40, 37, 54, 42, 39, 144, 54, 180, 65, 67, 235, 18, 9, 270, 209, 43, 45, 298, 4, 5, 76, 115, 148, 2, 40, 6, 27, 18, 109, 34, 52, 53, 45, 38, 29, 164, 38, 14, 182, 41, 49, 168, 138, 77, 41, 10, 69, 63, 378, 66, 56, 28, 10, 54, 49, 48, 512, 83, 44, 115, 123, 34, 42, 18, 250, 61, 36, 269, 512, 139, 18, 26, 133, 85, 106, 62, 59, 127, 120, 82, 53, 4, 29, 57, 29, 238, 176, 42, 67, 195, 4, 14, 39, 61, 129, 51, 25, 84, 265, 138, 156, 46, 40, 96, 5, 166, 141, 129, 171, 30, 273, 287, 512, 16, 78, 114, 27, 8, 46, 25, 96, 43, 512, 27, 472, 94, 164, 213, 49, 137, 14, 24, 68, 252, 26, 213, 30, 75, 31, 61, 10, 103, 245, 60, 28, 212, 108, 140, 9, 93, 119, 41, 55, 229, 30, 109, 96, 61, 118, 43, 97, 131, 194, 114, 145, 17, 295, 112, 47, 51, 100, 30, 108, 48, 115, 101, 6, 91, 27, 54, 141, 65, 12, 283, 128, 49, 43, 99, 8, 62, 15, 72, 51, 149, 231, 15, 41, 227, 58, 79, 287, 76, 6, 72, 52, 20, 335, 31, 48, 114, 52, 294, 133, 64, 142, 205, 83, 82, 26, 4, 11, 11, 9, 76, 70, 25, 280, 54, 22, 51, 22, 99, 10, 48, 132, 22, 10, 83, 512, 360, 74, 6, 81, 277, 47, 86, 93, 109, 187, 85, 54, 227, 118, 65, 31, 102, 80, 169, 55, 49, 100, 4, 23, 78, 10, 161, 132, 139, 34, 33, 27, 30, 31, 267, 4, 18, 73, 38, 35, 298, 111, 81, 31, 28, 28, 18, 137, 213, 288, 64, 25, 8, 4, 329, 11, 15, 13, 89, 49, 102, 85, 53, 39, 25, 133, 93, 32, 157, 47, 24, 19, 39, 199, 79, 262, 131, 78, 42, 74, 222, 61, 322, 30, 37, 77, 21, 52, 80, 7, 58, 54, 218, 82, 66, 119, 195, 117, 63, 317, 41, 455, 29, 512, 20, 49, 291, 23, 136, 327, 134, 253, 59, 162, 79, 96, 179, 24, 69, 10, 235, 45, 170, 94, 21, 34, 165, 36, 40, 222, 47, 4, 55, 50, 27, 65, 5, 19, 128, 171, 29, 290, 62, 23, 11, 187, 45, 19, 56, 23, 139, 3, 50, 143, 55, 44, 47, 3, 52, 43, 56, 66, 179, 19, 50, 34, 24, 47, 43, 124, 100, 51, 309, 57, 68, 273, 94, 45, 26, 51, 98, 34, 7, 132, 69, 51, 24, 87, 33, 173, 21, 55, 512, 187, 35, 112, 82, 112, 246, 65, 62, 59, 48, 29, 3, 94, 88, 50, 7, 408, 94, 26, 268, 285, 7, 28, 125, 45, 103, 74, 123, 31, 51, 18, 72, 14, 73, 200, 295, 512, 253, 117, 20, 36, 42, 71, 6, 115, 37, 157, 203, 14, 30, 4, 45, 63, 145, 14, 58, 61, 59, 192, 18, 73, 196, 23, 187, 34, 512, 423, 134, 33, 40, 305, 123, 92, 36, 21, 310, 84, 33, 3, 46, 133, 26, 19, 37, 84, 52, 27, 68, 25, 258, 54, 49, 23, 512, 35, 160, 62, 340, 68, 119, 116, 60, 36, 52, 291, 57, 77, 176, 336, 112, 104, 55, 86, 53, 101, 512, 5, 38, 61, 39, 95, 37, 300, 180, 11, 3, 11, 8, 107, 23, 34, 42, 49, 32, 20, 65, 316, 87, 24, 33, 3, 71, 512, 2, 21, 42, 33, 80, 32, 2, 12, 62, 73, 110, 206, 231, 103, 38, 43, 95, 237, 94, 96, 173, 9, 195, 212, 118, 11, 58, 10, 14, 440, 38, 29, 39, 13, 28, 71, 41, 166, 27, 125, 14, 27, 75, 42, 45, 111, 24, 54, 87, 9, 30, 168, 70, 58, 58, 30, 32, 6, 183, 33, 23, 34, 92, 512, 130, 76, 212, 55, 43, 59, 100, 90, 80, 187, 138, 56, 23, 22, 2, 156, 82, 93, 164, 54, 36, 72, 17, 37, 36, 28, 51, 224, 33, 4, 22, 23, 122, 6, 43, 330, 139, 20, 383, 97, 68, 170, 52, 79, 144, 92, 125, 144, 7, 308, 6, 16, 11, 69, 169, 204, 148, 45, 317, 65, 51, 60, 99, 143, 26, 400, 64, 50, 237, 512, 66, 47, 263, 31, 35, 36, 512, 79, 74, 56, 26, 73, 114, 74, 42, 73, 111, 117, 226, 11, 73, 92, 60, 36, 132, 39, 381, 36, 298, 14, 82, 20, 12, 63, 99, 113, 44, 70, 250, 49, 243, 512, 104, 201, 34, 313, 19, 26, 28, 215, 76, 92, 61, 213, 359, 11, 45, 55, 56, 82, 196, 176, 13, 42, 101, 16, 104]\n",
      "[152, 253, 73, 83, 43, 479, 211, 186, 62, 83, 285, 104, 39, 49, 124, 69, 183, 37, 24, 72, 172, 122, 19, 101, 45, 39, 55, 74, 39, 35, 55, 179, 13, 78, 154, 61, 177, 37, 90, 8, 42, 42, 14, 28, 44, 8, 29, 88, 100, 126, 56, 22, 43, 315, 18, 212, 95, 39, 28, 279, 8, 116, 40, 19, 230, 85, 55, 260, 28, 139, 157, 83, 50, 66, 23, 69, 24, 430, 61, 40, 40, 58, 36, 20, 111, 52, 12, 51, 146, 138, 290, 60, 27, 137, 64, 234, 92, 86, 66, 65, 217, 66, 33, 9, 67, 112, 188, 117, 89, 53, 235, 30, 47, 41, 91, 87, 33, 72, 98, 181, 111, 86, 133, 41, 34, 10, 38, 126, 69, 184, 95, 54, 115, 137, 146, 277, 8, 24, 128, 168, 42, 33, 26, 18, 110, 44, 180, 111, 46, 69, 63, 13, 298, 249, 217, 29, 103, 95, 41, 32, 128, 57, 116, 17, 98, 22, 16, 62, 96, 26, 299, 90, 29, 26, 25, 122, 36, 59, 54, 9, 102, 126, 62, 11, 49, 41, 392, 74, 32, 149, 31, 53, 54, 24, 436, 8, 38, 42, 45, 334, 221, 44, 180, 201, 25, 70, 67, 37, 36, 5, 111, 217, 58, 108, 13, 57, 182, 69, 148, 35, 48, 131, 237, 111, 55, 445, 267, 340, 88, 11, 30, 100, 52, 79, 68, 83, 336, 280, 81, 36, 137, 262, 151, 9, 137, 14, 13, 197, 74, 32, 16, 426, 84, 82, 21, 193, 184, 247, 34, 138, 55, 287, 122, 46, 11, 332, 22, 164, 120, 33, 75, 57, 112, 72, 293, 111, 35, 20, 62, 74, 6, 84, 378, 45, 512, 43, 64, 47, 55, 85, 172, 17, 79, 31, 64, 82, 20, 28, 111, 133, 26, 72, 58, 110, 56, 52, 29, 80, 60, 29, 25, 196, 39, 91, 42, 339, 113, 44, 51, 21, 419, 68, 120, 160, 104, 103, 150, 76, 71, 54, 21, 34, 27, 198, 35, 123, 49, 25, 85, 7, 116, 59, 68, 8, 50, 18, 19, 72, 39, 61, 44, 111, 49, 163, 30, 98, 55, 28, 61, 78, 72, 99, 29, 122, 25, 27, 29, 8, 199, 84, 375, 23, 70, 84, 24, 97, 413, 32, 259, 7, 84, 59, 51, 72, 27, 27, 41, 59, 31, 22, 150, 33, 268, 199, 59, 54, 149, 203, 50, 28, 9, 115, 29, 47, 94, 101, 138, 14, 25, 46, 46, 54, 255, 56, 74, 5, 512, 152, 45, 433, 105, 48, 9, 44, 33, 204, 173, 284, 19, 280, 8, 4, 52, 123, 21, 30, 35, 9, 44, 45, 9, 66, 38, 182, 171, 12, 181, 96, 45, 28, 229, 12, 35, 41, 22, 116, 41, 186, 170, 204, 100, 57, 89, 327, 128, 34, 54, 9, 10, 64, 22, 204, 147, 54, 41, 147, 79, 97, 78, 5, 291, 29, 147, 155, 34, 47, 13, 25, 80, 48, 170, 91, 71, 238, 85, 98, 41, 240, 94, 38, 249, 67, 108, 123, 91, 32, 77, 31, 31, 230, 44, 9, 114, 19, 80, 76, 299, 28, 39, 323, 32, 56, 31, 52, 172, 231, 37, 79, 128, 91, 59, 141, 74, 95, 24, 93, 20, 185, 84, 29, 39, 24, 112, 112, 219, 26, 265, 39, 68, 114, 156, 104, 346, 274, 197, 207, 71, 135, 51, 119, 73, 27, 8, 63, 58, 16, 56, 161, 27, 72, 80, 18, 52, 50, 20, 88, 117, 164, 125, 45, 11, 48, 37, 328, 291, 55, 161, 85, 113, 158, 155, 239, 124, 42, 63, 60, 33, 223, 116, 64, 512, 101, 41, 79, 36, 31, 273, 31, 9, 122, 54, 343, 34, 32, 23, 37, 5, 75, 13, 60, 48, 50, 138, 63, 22, 5, 30, 17, 186, 241, 144, 27, 16, 63, 102, 61, 30, 14, 10, 74, 65, 146, 15, 51, 50, 52, 79, 57, 60, 12, 43, 249, 9, 181, 122, 14, 14, 102, 43, 211, 52, 104, 159, 35, 172, 23, 111, 134, 221, 28, 112, 204, 86, 22, 31, 180, 33, 63, 252, 44, 100, 321, 292, 158, 64, 32, 49, 104, 113, 230, 106, 80, 237, 183, 31, 106, 116, 121, 111, 31, 24, 36, 223, 114, 150, 23, 122, 206, 66, 144, 81, 151, 56, 23, 31, 42, 159, 318, 74, 66, 111, 34, 124, 128, 299, 19, 22, 87, 25, 294, 103, 78, 18, 80, 49, 36, 62, 183, 42, 118, 49, 37, 174, 57, 34, 131, 288, 132, 98, 173, 253, 102, 84, 84, 67, 89, 55, 23, 59, 87, 83, 137, 58, 103, 68, 224, 306, 54, 54, 4, 50, 349, 130, 22, 31, 38, 271, 13, 50, 92, 210, 97, 33, 19, 37, 113, 38, 105, 85, 110, 179, 128, 56, 63, 136, 20, 298, 241, 54, 39, 39, 80, 277, 64, 221, 35, 24, 210, 326, 45, 59, 24, 49, 93, 63, 133, 18, 30, 4, 44, 40, 8, 49, 71, 88, 58, 112, 22, 28, 23, 40, 91, 96, 41, 125, 68, 122, 97, 192, 251, 19, 68, 25, 103, 107, 45, 334, 336, 410, 32, 89, 17, 44, 256, 88, 37, 139, 124, 339, 108, 208, 331, 113, 299, 59, 71, 9, 71, 128, 37, 53, 3, 169, 59, 110, 116, 274, 11, 40, 338, 144, 44, 70, 89, 232, 62, 33, 94, 223, 97, 7, 47, 43, 129, 62, 71, 54, 47, 153, 152, 14, 111, 23, 125, 42, 22, 27, 315, 31, 58, 37, 24, 40, 164, 53, 465, 69, 108, 34, 196, 31, 87, 197, 32, 189, 6, 46, 217, 4, 51, 11, 276, 52, 110, 50, 73, 16, 23, 68, 109, 41, 121, 115, 239, 118, 138, 512, 36, 29, 11, 37, 62, 34, 237, 30, 51, 24, 266, 55, 88, 41, 30, 62, 24, 54, 12, 140, 51, 512, 215, 52, 82, 36, 145, 23, 159, 55, 179, 22, 63, 24, 82, 38, 184, 42, 24, 74, 75, 238, 5, 91, 81, 49, 13, 58, 24, 17, 81, 310, 100, 72, 10, 18, 82, 104, 74, 97, 32, 138, 93, 103, 39, 359, 209, 53, 15, 69, 34, 86, 24, 36, 208, 214, 28, 40, 72, 150, 193, 59, 84, 34, 32, 200, 37, 40, 54, 392, 23, 362, 172, 6, 98, 45, 81, 21, 18, 53, 62, 39, 98, 10, 152, 41, 9, 65, 29, 113, 205, 58, 40, 58, 71, 305, 126, 26, 201, 512, 103, 32, 34, 40, 8, 16, 10, 22, 80, 20, 130, 145, 113, 59, 17, 73, 13, 103, 118, 167, 59, 143, 61, 49, 346, 235, 48, 25, 20, 25, 124, 46, 58, 39, 162, 60, 30, 236, 55, 194, 59, 177, 160, 243, 8, 47, 134, 33, 18, 98, 282, 49, 303, 128, 81, 45, 31, 44, 64, 9, 332, 51, 246, 56, 24, 87, 126, 97, 19, 16, 56, 39, 97, 90, 72, 271, 53, 42, 121, 27, 88, 55, 25, 110, 40, 32, 25, 70, 72, 33, 37, 44, 36, 36, 12, 154, 28, 58, 107, 44, 189, 458, 64, 12, 142, 37, 494, 23, 55, 114, 119, 163, 12, 22, 15, 171, 74, 8, 113, 252, 98, 43, 68, 107, 119, 141, 57, 31, 200, 14, 512, 198, 123, 195, 52, 141, 100, 124, 208, 30, 82, 32, 48, 42, 54, 64, 72, 43, 339, 5, 11, 512, 361, 36, 54, 74, 213, 70, 14, 169, 166, 343, 39, 126, 61, 10, 282, 58, 32, 33, 338, 74, 42, 19, 31, 196, 21, 36, 236, 14, 20, 27, 116, 6, 8, 55, 83, 40, 41, 186, 8, 50, 352, 101, 100, 62, 161, 122, 38, 6, 41, 55, 17, 38, 86, 26, 214, 66, 4, 33, 56, 47, 37, 206, 242, 289, 33, 49, 118, 11, 72, 287, 64, 65, 42, 30, 53, 100, 20, 82, 191, 86, 37, 58, 39, 43, 171, 37, 65, 144, 70, 70, 59, 339, 8, 50, 100, 292, 88, 46, 44, 70, 90, 6, 105, 81, 47, 48, 142, 330, 180, 15, 63, 43, 4, 32, 19, 190, 264, 73, 57, 86, 53, 308, 61, 8, 187, 27, 52, 91, 118, 130, 23, 240, 27, 33, 52, 130, 28, 149, 76, 280, 29, 43, 42, 58, 57, 43, 146, 58, 182, 68, 69, 242, 20, 14, 273, 211, 50, 45, 299, 4, 6, 78, 116, 154, 8, 42, 7, 31, 23, 109, 39, 59, 63, 45, 49, 38, 166, 40, 35, 186, 43, 56, 170, 139, 78, 42, 53, 70, 64, 381, 67, 56, 31, 11, 57, 53, 49, 512, 84, 48, 118, 124, 34, 46, 19, 252, 61, 43, 271, 512, 141, 23, 41, 135, 86, 109, 65, 59, 129, 125, 86, 56, 9, 33, 58, 32, 239, 184, 46, 72, 196, 7, 17, 42, 64, 133, 53, 29, 84, 268, 154, 157, 49, 42, 96, 7, 170, 142, 142, 173, 38, 274, 290, 512, 16, 79, 114, 30, 8, 48, 25, 98, 58, 265, 28, 472, 102, 169, 217, 51, 209, 15, 24, 69, 255, 28, 214, 58, 77, 37, 63, 12, 104, 245, 63, 29, 213, 121, 141, 14, 95, 121, 41, 57, 230, 31, 111, 97, 64, 124, 43, 108, 139, 195, 115, 147, 21, 298, 114, 51, 54, 104, 30, 111, 51, 117, 106, 10, 92, 31, 60, 146, 72, 13, 284, 131, 51, 46, 107, 14, 67, 21, 73, 52, 151, 232, 21, 44, 230, 61, 80, 291, 76, 6, 73, 54, 36, 335, 36, 51, 114, 59, 301, 134, 67, 144, 206, 98, 85, 28, 10, 19, 16, 17, 79, 77, 29, 281, 60, 24, 53, 24, 103, 16, 49, 132, 24, 12, 124, 512, 362, 75, 8, 83, 277, 49, 91, 95, 110, 189, 86, 57, 230, 130, 68, 31, 103, 80, 170, 55, 61, 102, 5, 26, 79, 10, 176, 136, 144, 41, 41, 28, 31, 37, 271, 8, 21, 75, 42, 38, 298, 113, 96, 31, 28, 35, 20, 141, 213, 288, 72, 27, 10, 6, 332, 14, 25, 14, 92, 50, 103, 86, 55, 43, 32, 136, 93, 35, 159, 47, 30, 20, 45, 199, 83, 263, 133, 78, 44, 75, 225, 67, 323, 34, 38, 81, 22, 54, 83, 9, 64, 56, 220, 85, 67, 119, 198, 130, 67, 321, 41, 456, 31, 512, 21, 57, 291, 24, 151, 329, 134, 254, 63, 165, 79, 96, 179, 25, 73, 14, 240, 60, 178, 101, 23, 38, 168, 38, 48, 226, 48, 512, 64, 54, 28, 65, 18, 22, 133, 173, 36, 291, 66, 33, 16, 192, 56, 20, 58, 26, 142, 8, 52, 145, 62, 48, 58, 8, 53, 45, 60, 73, 187, 20, 58, 37, 30, 50, 44, 127, 103, 52, 312, 59, 72, 277, 94, 46, 33, 58, 105, 46, 12, 132, 70, 52, 26, 88, 43, 174, 23, 58, 512, 187, 35, 113, 87, 117, 262, 65, 66, 60, 50, 33, 5, 97, 92, 61, 11, 414, 97, 37, 268, 286, 12, 29, 126, 48, 107, 77, 125, 31, 51, 20, 73, 19, 76, 201, 298, 2, 255, 118, 26, 38, 42, 75, 11, 118, 40, 161, 207, 15, 32, 11, 54, 69, 145, 15, 58, 66, 66, 194, 23, 76, 196, 24, 188, 37, 512, 424, 140, 42, 44, 309, 124, 93, 40, 25, 313, 85, 37, 3, 50, 146, 26, 22, 39, 85, 55, 32, 69, 57, 261, 55, 52, 25, 512, 39, 161, 62, 346, 71, 120, 117, 60, 40, 57, 292, 59, 79, 177, 339, 113, 106, 59, 86, 56, 102, 512, 10, 42, 65, 40, 97, 39, 301, 180, 16, 9, 14, 14, 110, 26, 35, 44, 53, 34, 41, 78, 320, 87, 29, 37, 8, 75, 148, 6, 23, 46, 33, 81, 34, 3, 14, 63, 77, 111, 206, 234, 105, 40, 46, 95, 240, 94, 103, 179, 11, 202, 212, 118, 12, 59, 19, 18, 441, 41, 44, 42, 16, 35, 72, 44, 170, 31, 127, 15, 35, 82, 43, 56, 114, 27, 56, 89, 10, 35, 172, 73, 62, 59, 34, 35, 7, 186, 39, 28, 36, 92, 512, 130, 79, 212, 58, 46, 62, 102, 93, 84, 189, 140, 57, 23, 23, 4, 158, 90, 94, 164, 66, 37, 74, 18, 43, 43, 30, 62, 228, 38, 8, 24, 34, 126, 11, 47, 331, 151, 24, 383, 99, 72, 215, 53, 83, 147, 105, 126, 146, 12, 311, 9, 16, 11, 70, 173, 207, 153, 48, 318, 69, 52, 60, 101, 146, 28, 403, 65, 54, 239, 512, 67, 53, 269, 33, 37, 37, 512, 81, 78, 61, 28, 76, 114, 75, 44, 77, 112, 132, 232, 19, 75, 97, 64, 43, 132, 40, 382, 40, 299, 20, 83, 21, 12, 65, 101, 115, 51, 72, 253, 51, 244, 512, 106, 204, 40, 315, 23, 27, 28, 219, 84, 107, 68, 218, 360, 19, 49, 57, 58, 82, 198, 177, 14, 43, 102, 18, 106]\n"
     ]
    }
   ],
   "source": [
    "def add_token_positions(tokenizer, encodings, answers_start, answers_end):\n",
    "    start_positions = []\n",
    "    end_positions = []\n",
    "    for i, (st,en) in enumerate(zip(answers_start, answers_end)):\n",
    "        # print(i,st,en)\n",
    "        start_positions.append(encodings.char_to_token(i, st))\n",
    "        end_positions.append(encodings.char_to_token(i, en))\n",
    "\n",
    "        # if start position is None, the answer passage has been truncated\n",
    "        if start_positions[-1] is None:\n",
    "            start_positions[-1] = tokenizer.model_max_length\n",
    "        if end_positions[-1] is None:\n",
    "            end_positions[-1] = tokenizer.model_max_length\n",
    "\n",
    "    print(start_positions)\n",
    "    print(end_positions)\n",
    "    encodings.update({'start_positions': start_positions, 'end_positions': end_positions})\n",
    "\n",
    "add_token_positions(tokenizer, train_encodings, train_answers_start, train_answers_end)"
   ]
  },
  {
   "cell_type": "code",
   "execution_count": 17,
   "metadata": {
    "id": "ekRCW6E5EJeZ"
   },
   "outputs": [],
   "source": [
    "import torch\n",
    "from torch.utils.data import DataLoader, RandomSampler, SequentialSampler"
   ]
  },
  {
   "cell_type": "code",
   "execution_count": 18,
   "metadata": {
    "id": "vxk9nP_zDQP4"
   },
   "outputs": [],
   "source": [
    "class QADataset(torch.utils.data.Dataset):\n",
    "    def __init__(self, encodings):\n",
    "        self.encodings = encodings\n",
    "\n",
    "    def __len__(self):\n",
    "        return len(self.encodings.input_ids)\n",
    "\n",
    "    def __getitem__(self, idx):\n",
    "        return {key: torch.tensor(val[idx]) for key, val in self.encodings.items()}"
   ]
  },
  {
   "cell_type": "code",
   "execution_count": 19,
   "metadata": {
    "id": "DLZHWBj_Dc4j"
   },
   "outputs": [],
   "source": [
    "train_dataset = QADataset(train_encodings)\n",
    "train_dataloader = DataLoader(train_dataset, \n",
    "                              sampler = RandomSampler(train_dataset), \n",
    "                              batch_size=16,\n",
    "                              num_workers=2,\n",
    "                              pin_memory=True)\n",
    "\n",
    "# # For validation the order doesn't matter, so we'll just read them sequentially.\n",
    "# validation_dataloader = DataLoader(\n",
    "#             val_dataset, # The validation samples.\n",
    "#             sampler = SequentialSampler(val_dataset), # Pull out batches sequentially.\n",
    "#             batch_size = batch_size # Evaluate with this batch size.\n",
    "#         )"
   ]
  },
  {
   "cell_type": "code",
   "execution_count": 20,
   "metadata": {
    "id": "KHUss3d7i0N_"
   },
   "outputs": [],
   "source": [
    "def seed_everything(seed=2021):\n",
    "    random.seed(seed)\n",
    "    os.environ['PYTHONHASHSEED'] = str(seed)\n",
    "    np.random.seed(seed)\n",
    "    torch.manual_seed(seed)\n",
    "    torch.cuda.manual_seed(seed)\n",
    "    torch.backends.cudnn.deterministic = True\n",
    "    \n",
    "seed_everything()"
   ]
  },
  {
   "cell_type": "code",
   "execution_count": 22,
   "metadata": {
    "id": "_MCABmjTiR20"
   },
   "outputs": [],
   "source": [
    "import time\n",
    "from tqdm import tqdm\n",
    "from transformers import AdamW, get_linear_schedule_with_warmup"
   ]
  },
  {
   "cell_type": "code",
   "execution_count": 23,
   "metadata": {
    "colab": {
     "base_uri": "https://localhost:8080/",
     "height": 363,
     "referenced_widgets": [
      "3081baf3f5674b3d8b78f2f426b290f0",
      "04b29b17bba54b8bb00cf1c09c7bc148",
      "23727b707f96415f9670b83673b0879d",
      "469c55809c4a40cdbc70bd23f46d7854",
      "83115bc4a0794db282aee9b22da24a29",
      "d8f143cded224798862d9e74c67374a2",
      "0b5e6559c486492a94aa1ff81fad3304",
      "5349525ca51c466fa4b0e99788f2b668",
      "724d0670532d4ec18627c4592eda56d7",
      "ed968a2edf7646b6b1c62102bec74c30",
      "8d76f8dc7c41478a90a1b2eb3349dc26"
     ]
    },
    "id": "MfZW1AjhEoWt",
    "outputId": "bd303af8-a4b3-4336-f421-fa3d2b1b71b9"
   },
   "outputs": [
    {
     "data": {
      "application/vnd.jupyter.widget-view+json": {
       "model_id": "3081baf3f5674b3d8b78f2f426b290f0",
       "version_major": 2,
       "version_minor": 0
      },
      "text/plain": [
       "Downloading:   0%|          | 0.00/256M [00:00<?, ?B/s]"
      ]
     },
     "metadata": {},
     "output_type": "display_data"
    },
    {
     "name": "stderr",
     "output_type": "stream",
     "text": [
      "Some weights of the model checkpoint at distilbert-base-uncased were not used when initializing DistilBertForQuestionAnswering: ['vocab_layer_norm.bias', 'vocab_transform.bias', 'vocab_projector.bias', 'vocab_layer_norm.weight', 'vocab_projector.weight', 'vocab_transform.weight']\n",
      "- This IS expected if you are initializing DistilBertForQuestionAnswering from the checkpoint of a model trained on another task or with another architecture (e.g. initializing a BertForSequenceClassification model from a BertForPreTraining model).\n",
      "- This IS NOT expected if you are initializing DistilBertForQuestionAnswering from the checkpoint of a model that you expect to be exactly identical (initializing a BertForSequenceClassification model from a BertForSequenceClassification model).\n",
      "Some weights of DistilBertForQuestionAnswering were not initialized from the model checkpoint at distilbert-base-uncased and are newly initialized: ['qa_outputs.bias', 'qa_outputs.weight']\n",
      "You should probably TRAIN this model on a down-stream task to be able to use it for predictions and inference.\n",
      "100%|██████████| 134/134 [03:11<00:00,  1.43s/it]\n",
      "100%|██████████| 134/134 [03:12<00:00,  1.44s/it]\n",
      "100%|██████████| 134/134 [03:12<00:00,  1.44s/it]\n",
      "100%|██████████| 134/134 [03:12<00:00,  1.44s/it]\n",
      "100%|██████████| 134/134 [03:12<00:00,  1.44s/it]\n",
      "100%|██████████| 134/134 [03:12<00:00,  1.44s/it]\n",
      "100%|██████████| 134/134 [03:12<00:00,  1.44s/it]\n",
      "100%|██████████| 134/134 [03:12<00:00,  1.44s/it]\n",
      "100%|██████████| 134/134 [03:12<00:00,  1.44s/it]\n",
      "100%|██████████| 134/134 [03:12<00:00,  1.44s/it]"
     ]
    },
    {
     "name": "stdout",
     "output_type": "stream",
     "text": [
      "\n",
      "DONE !!!\n"
     ]
    },
    {
     "name": "stderr",
     "output_type": "stream",
     "text": [
      "\n"
     ]
    }
   ],
   "source": [
    "device = torch.device('cuda') if torch.cuda.is_available() else torch.device('cpu')\n",
    "\n",
    "model = DistilBertForQuestionAnswering.from_pretrained(MODEL_NAME)\n",
    "model.to(device)\n",
    "model.train()\n",
    "\n",
    "num_epochs = 10\n",
    "optim = AdamW(model.parameters(), \n",
    "              lr=2e-5,\n",
    "              correct_bias=False)\n",
    "\n",
    "# Total number of training steps is [number of batches] x [number of epochs]. \n",
    "# (Note that this is not the same as the number of training samples).\n",
    "total_steps = len(train_dataloader) * num_epochs\n",
    "\n",
    "# Create the learning rate scheduler.\n",
    "scheduler = get_linear_schedule_with_warmup(optim, \n",
    "                                            num_warmup_steps = 0, # Default value in run_glue.py\n",
    "                                            num_training_steps = total_steps)\n",
    "\n",
    "for epoch in range(num_epochs):\n",
    "    for idx, batch in tqdm(enumerate(train_dataloader), total=len(train_dataloader)):\n",
    "\n",
    "        optim.zero_grad()\n",
    "        input_ids = batch['input_ids'].to(device)\n",
    "        attention_mask = batch['attention_mask'].to(device)\n",
    "        start_positions = batch['start_positions'].to(device)\n",
    "        end_positions = batch['end_positions'].to(device)\n",
    "        outputs = model(input_ids, \n",
    "                        attention_mask=attention_mask, \n",
    "                        start_positions=start_positions, \n",
    "                        end_positions=end_positions)\n",
    "        loss = outputs.loss\n",
    "        \n",
    "        ## Backpropagating\n",
    "        loss.backward()\n",
    "\n",
    "        ## Gradient clipping - avoids exploding gradients\n",
    "        torch.nn.utils.clip_grad_norm_(model.parameters(), 1.0)\n",
    "\n",
    "        optim.step()\n",
    "        # Update the learning rate.\n",
    "        scheduler.step()\n",
    "\n",
    "print(\"\\nDONE !!!\")"
   ]
  },
  {
   "cell_type": "code",
   "execution_count": null,
   "metadata": {
    "colab": {
     "base_uri": "https://localhost:8080/"
    },
    "id": "HkjVk5i6E_9n",
    "outputId": "873dcaa6-5cec-4f2b-d121-02432f9a3f72"
   },
   "outputs": [
    {
     "data": {
      "text/plain": [
       "DistilBertForQuestionAnswering(\n",
       "  (distilbert): DistilBertModel(\n",
       "    (embeddings): Embeddings(\n",
       "      (word_embeddings): Embedding(30522, 768, padding_idx=0)\n",
       "      (position_embeddings): Embedding(512, 768)\n",
       "      (LayerNorm): LayerNorm((768,), eps=1e-12, elementwise_affine=True)\n",
       "      (dropout): Dropout(p=0.1, inplace=False)\n",
       "    )\n",
       "    (transformer): Transformer(\n",
       "      (layer): ModuleList(\n",
       "        (0): TransformerBlock(\n",
       "          (attention): MultiHeadSelfAttention(\n",
       "            (dropout): Dropout(p=0.1, inplace=False)\n",
       "            (q_lin): Linear(in_features=768, out_features=768, bias=True)\n",
       "            (k_lin): Linear(in_features=768, out_features=768, bias=True)\n",
       "            (v_lin): Linear(in_features=768, out_features=768, bias=True)\n",
       "            (out_lin): Linear(in_features=768, out_features=768, bias=True)\n",
       "          )\n",
       "          (sa_layer_norm): LayerNorm((768,), eps=1e-12, elementwise_affine=True)\n",
       "          (ffn): FFN(\n",
       "            (dropout): Dropout(p=0.1, inplace=False)\n",
       "            (lin1): Linear(in_features=768, out_features=3072, bias=True)\n",
       "            (lin2): Linear(in_features=3072, out_features=768, bias=True)\n",
       "          )\n",
       "          (output_layer_norm): LayerNorm((768,), eps=1e-12, elementwise_affine=True)\n",
       "        )\n",
       "        (1): TransformerBlock(\n",
       "          (attention): MultiHeadSelfAttention(\n",
       "            (dropout): Dropout(p=0.1, inplace=False)\n",
       "            (q_lin): Linear(in_features=768, out_features=768, bias=True)\n",
       "            (k_lin): Linear(in_features=768, out_features=768, bias=True)\n",
       "            (v_lin): Linear(in_features=768, out_features=768, bias=True)\n",
       "            (out_lin): Linear(in_features=768, out_features=768, bias=True)\n",
       "          )\n",
       "          (sa_layer_norm): LayerNorm((768,), eps=1e-12, elementwise_affine=True)\n",
       "          (ffn): FFN(\n",
       "            (dropout): Dropout(p=0.1, inplace=False)\n",
       "            (lin1): Linear(in_features=768, out_features=3072, bias=True)\n",
       "            (lin2): Linear(in_features=3072, out_features=768, bias=True)\n",
       "          )\n",
       "          (output_layer_norm): LayerNorm((768,), eps=1e-12, elementwise_affine=True)\n",
       "        )\n",
       "        (2): TransformerBlock(\n",
       "          (attention): MultiHeadSelfAttention(\n",
       "            (dropout): Dropout(p=0.1, inplace=False)\n",
       "            (q_lin): Linear(in_features=768, out_features=768, bias=True)\n",
       "            (k_lin): Linear(in_features=768, out_features=768, bias=True)\n",
       "            (v_lin): Linear(in_features=768, out_features=768, bias=True)\n",
       "            (out_lin): Linear(in_features=768, out_features=768, bias=True)\n",
       "          )\n",
       "          (sa_layer_norm): LayerNorm((768,), eps=1e-12, elementwise_affine=True)\n",
       "          (ffn): FFN(\n",
       "            (dropout): Dropout(p=0.1, inplace=False)\n",
       "            (lin1): Linear(in_features=768, out_features=3072, bias=True)\n",
       "            (lin2): Linear(in_features=3072, out_features=768, bias=True)\n",
       "          )\n",
       "          (output_layer_norm): LayerNorm((768,), eps=1e-12, elementwise_affine=True)\n",
       "        )\n",
       "        (3): TransformerBlock(\n",
       "          (attention): MultiHeadSelfAttention(\n",
       "            (dropout): Dropout(p=0.1, inplace=False)\n",
       "            (q_lin): Linear(in_features=768, out_features=768, bias=True)\n",
       "            (k_lin): Linear(in_features=768, out_features=768, bias=True)\n",
       "            (v_lin): Linear(in_features=768, out_features=768, bias=True)\n",
       "            (out_lin): Linear(in_features=768, out_features=768, bias=True)\n",
       "          )\n",
       "          (sa_layer_norm): LayerNorm((768,), eps=1e-12, elementwise_affine=True)\n",
       "          (ffn): FFN(\n",
       "            (dropout): Dropout(p=0.1, inplace=False)\n",
       "            (lin1): Linear(in_features=768, out_features=3072, bias=True)\n",
       "            (lin2): Linear(in_features=3072, out_features=768, bias=True)\n",
       "          )\n",
       "          (output_layer_norm): LayerNorm((768,), eps=1e-12, elementwise_affine=True)\n",
       "        )\n",
       "        (4): TransformerBlock(\n",
       "          (attention): MultiHeadSelfAttention(\n",
       "            (dropout): Dropout(p=0.1, inplace=False)\n",
       "            (q_lin): Linear(in_features=768, out_features=768, bias=True)\n",
       "            (k_lin): Linear(in_features=768, out_features=768, bias=True)\n",
       "            (v_lin): Linear(in_features=768, out_features=768, bias=True)\n",
       "            (out_lin): Linear(in_features=768, out_features=768, bias=True)\n",
       "          )\n",
       "          (sa_layer_norm): LayerNorm((768,), eps=1e-12, elementwise_affine=True)\n",
       "          (ffn): FFN(\n",
       "            (dropout): Dropout(p=0.1, inplace=False)\n",
       "            (lin1): Linear(in_features=768, out_features=3072, bias=True)\n",
       "            (lin2): Linear(in_features=3072, out_features=768, bias=True)\n",
       "          )\n",
       "          (output_layer_norm): LayerNorm((768,), eps=1e-12, elementwise_affine=True)\n",
       "        )\n",
       "        (5): TransformerBlock(\n",
       "          (attention): MultiHeadSelfAttention(\n",
       "            (dropout): Dropout(p=0.1, inplace=False)\n",
       "            (q_lin): Linear(in_features=768, out_features=768, bias=True)\n",
       "            (k_lin): Linear(in_features=768, out_features=768, bias=True)\n",
       "            (v_lin): Linear(in_features=768, out_features=768, bias=True)\n",
       "            (out_lin): Linear(in_features=768, out_features=768, bias=True)\n",
       "          )\n",
       "          (sa_layer_norm): LayerNorm((768,), eps=1e-12, elementwise_affine=True)\n",
       "          (ffn): FFN(\n",
       "            (dropout): Dropout(p=0.1, inplace=False)\n",
       "            (lin1): Linear(in_features=768, out_features=3072, bias=True)\n",
       "            (lin2): Linear(in_features=3072, out_features=768, bias=True)\n",
       "          )\n",
       "          (output_layer_norm): LayerNorm((768,), eps=1e-12, elementwise_affine=True)\n",
       "        )\n",
       "      )\n",
       "    )\n",
       "  )\n",
       "  (qa_outputs): Linear(in_features=768, out_features=2, bias=True)\n",
       "  (dropout): Dropout(p=0.1, inplace=False)\n",
       ")"
      ]
     },
     "execution_count": 31,
     "metadata": {},
     "output_type": "execute_result"
    }
   ],
   "source": [
    "model.eval()"
   ]
  },
  {
   "cell_type": "markdown",
   "metadata": {
    "id": "VFVkFHlvUFi8"
   },
   "source": [
    "## Evaluating the model :\n",
    "\n",
    "Now we evaluate model predictions when it sees new data"
   ]
  },
  {
   "cell_type": "code",
   "execution_count": null,
   "metadata": {
    "id": "GDlaJjQNIL0k"
   },
   "outputs": [],
   "source": [
    "test_contexts = list(df_test['context'].values)\n",
    "test_questions = list(df_test['question'].values)\n",
    "test_answers = list(df_test['answer_text'].values)"
   ]
  },
  {
   "cell_type": "code",
   "execution_count": null,
   "metadata": {
    "colab": {
     "base_uri": "https://localhost:8080/"
    },
    "id": "0VfglJdRE07U",
    "outputId": "235b1471-c84d-418c-fa77-7b585899263f"
   },
   "outputs": [
    {
     "name": "stdout",
     "output_type": "stream",
     "text": [
      "What organism causes tularemia?\n",
      "Molecular Detection of Persistent Francisella tularensis Subspecies holarctica in Natural Waters. Tularemia, caused by the bacterium Francisella tularensis, where F. tularensis subspecies holarctica has long been the cause of endemic disease in parts of northern Sweden. Despite this, our understanding of the natural life-cycle of the organism is still limited. During three years, we collected surface water samples (n = 341) and sediment samples (n = 245) in two areas in Sweden with endemic tularemia. Real-time PCR screening demonstrated the presence of F. tularenis lpnA sequences in 108 (32%) and 48 (20%) of the samples, respectively. The 16S rRNA sequences from those samples all grouped to the species F. tularensis. Analysis of the FtM19InDel region of lpnA-positive samples from selected sampling points confirmed the presence of F. tularensis subspecies holarctica-specific sequences. These sequences were detected in water sampled during both outbreak and nonoutbreak years. Our results indicate that diverse F. tularensis-like organisms, including F. tularensis subsp. holarctica, persist in natural waters and sediments in the investigated areas with endemic tularemia.\n"
     ]
    }
   ],
   "source": [
    "idx = 89\n",
    "test_context, test_question, test_answer = test_contexts[idx], test_questions[idx], test_answers[idx]\n",
    "print(test_question)\n",
    "print(test_context)\n",
    "\n",
    "test_encoding = tokenizer.encode_plus(text=test_question,text_pair=test_context, add_special_tokens=True)"
   ]
  },
  {
   "cell_type": "code",
   "execution_count": null,
   "metadata": {
    "colab": {
     "base_uri": "https://localhost:8080/"
    },
    "id": "quGewKQIEVdU",
    "outputId": "3e2006aa-60cc-496d-a25c-1e0d5abfc36e"
   },
   "outputs": [
    {
     "name": "stdout",
     "output_type": "stream",
     "text": [
      "[101, 2054, 15923, 5320, 10722, 8017, 17577, 1029, 102, 8382, 10788, 1997, 14516, 4557, 8411, 10722, 8017, 9911, 11056, 7570, 8017, 13306, 2050, 1999, 3019, 5380, 1012, 10722, 8017, 17577, 1010, 3303, 2011, 1996, 24024, 4557, 8411, 10722, 8017, 9911, 1010, 2073, 1042, 1012, 10722, 8017, 9911, 11056, 7570, 8017, 13306, 2050, 2038, 2146, 2042, 1996, 3426, 1997, 7320, 4295, 1999, 3033, 1997, 2642, 4701, 1012, 2750, 2023, 1010, 2256, 4824, 1997, 1996, 3019, 2166, 1011, 5402, 1997, 1996, 15923, 2003, 2145, 3132, 1012, 2076, 2093, 2086, 1010, 2057, 5067, 3302, 2300, 8168, 1006, 1050, 1027, 28358, 1007, 1998, 19671, 8168, 1006, 1050, 1027, 21005, 1007, 1999, 2048, 2752, 1999, 4701, 2007, 7320, 10722, 8017, 17577, 1012, 2613, 1011, 2051, 7473, 2099, 11326, 7645, 1996, 3739, 1997, 1042, 1012, 10722, 8017, 18595, 2015, 6948, 2532, 10071, 1999, 10715, 1006, 3590, 1003, 1007, 1998, 4466, 1006, 2322, 1003, 1007, 1997, 1996, 8168, 1010, 4414, 1012, 1996, 2385, 2015, 25269, 2532, 10071, 2013, 2216, 8168, 2035, 15131, 2000, 1996, 2427, 1042, 1012, 10722, 8017, 9911, 1012, 4106, 1997, 1996, 3027, 2213, 16147, 22254, 2884, 2555, 1997, 6948, 2532, 1011, 3893, 8168, 2013, 3479, 16227, 2685, 4484, 1996, 3739, 1997, 1042, 1012, 10722, 8017, 9911, 11056, 7570, 8017, 13306, 2050, 1011, 3563, 10071, 1012, 2122, 10071, 2020, 11156, 1999, 2300, 18925, 2076, 2119, 8293, 1998, 2512, 5833, 23890, 2086, 1012, 2256, 3463, 5769, 2008, 7578, 1042, 1012, 10722, 8017, 9911, 1011, 2066, 11767, 1010, 2164, 1042, 1012, 10722, 8017, 9911, 24807, 1012, 7570, 8017, 13306, 2050, 1010, 29486, 1999, 3019, 5380, 1998, 20476, 1999, 1996, 10847, 2752, 2007, 7320, 10722, 8017, 17577, 1012, 102]\n",
      "[1, 1, 1, 1, 1, 1, 1, 1, 1, 1, 1, 1, 1, 1, 1, 1, 1, 1, 1, 1, 1, 1, 1, 1, 1, 1, 1, 1, 1, 1, 1, 1, 1, 1, 1, 1, 1, 1, 1, 1, 1, 1, 1, 1, 1, 1, 1, 1, 1, 1, 1, 1, 1, 1, 1, 1, 1, 1, 1, 1, 1, 1, 1, 1, 1, 1, 1, 1, 1, 1, 1, 1, 1, 1, 1, 1, 1, 1, 1, 1, 1, 1, 1, 1, 1, 1, 1, 1, 1, 1, 1, 1, 1, 1, 1, 1, 1, 1, 1, 1, 1, 1, 1, 1, 1, 1, 1, 1, 1, 1, 1, 1, 1, 1, 1, 1, 1, 1, 1, 1, 1, 1, 1, 1, 1, 1, 1, 1, 1, 1, 1, 1, 1, 1, 1, 1, 1, 1, 1, 1, 1, 1, 1, 1, 1, 1, 1, 1, 1, 1, 1, 1, 1, 1, 1, 1, 1, 1, 1, 1, 1, 1, 1, 1, 1, 1, 1, 1, 1, 1, 1, 1, 1, 1, 1, 1, 1, 1, 1, 1, 1, 1, 1, 1, 1, 1, 1, 1, 1, 1, 1, 1, 1, 1, 1, 1, 1, 1, 1, 1, 1, 1, 1, 1, 1, 1, 1, 1, 1, 1, 1, 1, 1, 1, 1, 1, 1, 1, 1, 1, 1, 1, 1, 1, 1, 1, 1, 1, 1, 1, 1, 1, 1, 1, 1, 1, 1, 1, 1, 1, 1, 1, 1, 1, 1, 1, 1, 1, 1, 1, 1, 1, 1, 1, 1, 1, 1, 1, 1, 1, 1, 1, 1, 1, 1, 1, 1, 1, 1, 1, 1]\n",
      "['[CLS]', 'what', 'organism', 'causes', 'tu', '##lar', '##emia', '?', '[SEP]', 'molecular', 'detection', 'of', 'persistent', 'francis', '##ella', 'tu', '##lar', '##ensis', 'subspecies', 'ho', '##lar', '##ctic', '##a', 'in', 'natural', 'waters', '.', 'tu', '##lar', '##emia', ',', 'caused', 'by', 'the', 'bacterium', 'francis', '##ella', 'tu', '##lar', '##ensis', ',', 'where', 'f', '.', 'tu', '##lar', '##ensis', 'subspecies', 'ho', '##lar', '##ctic', '##a', 'has', 'long', 'been', 'the', 'cause', 'of', 'endemic', 'disease', 'in', 'parts', 'of', 'northern', 'sweden', '.', 'despite', 'this', ',', 'our', 'understanding', 'of', 'the', 'natural', 'life', '-', 'cycle', 'of', 'the', 'organism', 'is', 'still', 'limited', '.', 'during', 'three', 'years', ',', 'we', 'collected', 'surface', 'water', 'samples', '(', 'n', '=', '341', ')', 'and', 'sediment', 'samples', '(', 'n', '=', '245', ')', 'in', 'two', 'areas', 'in', 'sweden', 'with', 'endemic', 'tu', '##lar', '##emia', '.', 'real', '-', 'time', 'pc', '##r', 'screening', 'demonstrated', 'the', 'presence', 'of', 'f', '.', 'tu', '##lar', '##eni', '##s', 'lp', '##na', 'sequences', 'in', '108', '(', '32', '%', ')', 'and', '48', '(', '20', '%', ')', 'of', 'the', 'samples', ',', 'respectively', '.', 'the', '16', '##s', 'rr', '##na', 'sequences', 'from', 'those', 'samples', 'all', 'grouped', 'to', 'the', 'species', 'f', '.', 'tu', '##lar', '##ensis', '.', 'analysis', 'of', 'the', 'ft', '##m', '##19', '##ind', '##el', 'region', 'of', 'lp', '##na', '-', 'positive', 'samples', 'from', 'selected', 'sampling', 'points', 'confirmed', 'the', 'presence', 'of', 'f', '.', 'tu', '##lar', '##ensis', 'subspecies', 'ho', '##lar', '##ctic', '##a', '-', 'specific', 'sequences', '.', 'these', 'sequences', 'were', 'detected', 'in', 'water', 'sampled', 'during', 'both', 'outbreak', 'and', 'non', '##out', '##break', 'years', '.', 'our', 'results', 'indicate', 'that', 'diverse', 'f', '.', 'tu', '##lar', '##ensis', '-', 'like', 'organisms', ',', 'including', 'f', '.', 'tu', '##lar', '##ensis', 'subsp', '.', 'ho', '##lar', '##ctic', '##a', ',', 'persist', 'in', 'natural', 'waters', 'and', 'sediments', 'in', 'the', 'investigated', 'areas', 'with', 'endemic', 'tu', '##lar', '##emia', '.', '[SEP]']\n",
      "271 271\n"
     ]
    }
   ],
   "source": [
    "inputs = test_encoding['input_ids']  #Token embeddings\n",
    "attn_mask = test_encoding['attention_mask']\n",
    "tokens = tokenizer.convert_ids_to_tokens(inputs) #input tokens\n",
    "print(inputs)\n",
    "print(attn_mask)\n",
    "print(tokens)\n",
    "print(len(attn_mask),len(tokens))\n",
    "\n",
    "# Telling the model not to compute or store gradients, saving memory and speeding up prediction\n",
    "with torch.no_grad():\n",
    "  output = model(input_ids=torch.tensor([inputs]).to(device=device), \n",
    "                 attention_mask = torch.tensor([attn_mask]).to(device=device))                                  "
   ]
  },
  {
   "cell_type": "markdown",
   "metadata": {
    "id": "l0GjQi_EQ_YL"
   },
   "source": [
    "## Note :\n",
    "\n",
    "There might be some trouble when you try to convert BERT tokens back to original sentence. This is bcoz BERT uses word-piece tokenization that is unfortunately not loss-less, i.e., you are never guaranteed to get the same sentence after detokenization. This is a big difference from RoBERTa that uses SentencePiece that is fully revertable.\n",
    "\n",
    "You can get the so-called pre-tokenized text where merging tokens starting with ##.\n",
    "\n",
    "For more check this link - https://stackoverflow.com/questions/66232938/how-to-untokenize-bert-tokens"
   ]
  },
  {
   "cell_type": "code",
   "execution_count": null,
   "metadata": {
    "colab": {
     "base_uri": "https://localhost:8080/"
    },
    "id": "ISNnAzQKEunH",
    "outputId": "76f7ba34-d547-4bef-e23b-88ad06658ccd"
   },
   "outputs": [
    {
     "name": "stdout",
     "output_type": "stream",
     "text": [
      "Francisella tularensis\n",
      "francisella tularensis\n",
      "['francis', '##ella', 'tu', '##lar', '##ensis']\n"
     ]
    }
   ],
   "source": [
    "start_index = torch.argmax(output.start_logits)\n",
    "end_index = torch.argmax(output.end_logits)\n",
    "\n",
    "pred_tokens = tokens[start_index:end_index+1]\n",
    "pred_answer = tokenizer.convert_tokens_to_string(pred_tokens)\n",
    "\n",
    "print(test_answer)\n",
    "print(pred_answer)\n",
    "print(pred_tokens)"
   ]
  },
  {
   "cell_type": "markdown",
   "metadata": {
    "id": "7j157GDOSmnB"
   },
   "source": [
    "**That's spot on !!!**"
   ]
  }
 ],
 "metadata": {
  "accelerator": "GPU",
  "colab": {
   "collapsed_sections": [
    "PXphKvA_Tzft",
    "NDYxT5BFhcvy"
   ],
   "name": "QA_with_BERT_expts.ipynb",
   "provenance": []
  },
  "kernelspec": {
   "display_name": "Python 3",
   "language": "python",
   "name": "python3"
  },
  "language_info": {
   "codemirror_mode": {
    "name": "ipython",
    "version": 3
   },
   "file_extension": ".py",
   "mimetype": "text/x-python",
   "name": "python",
   "nbconvert_exporter": "python",
   "pygments_lexer": "ipython3",
   "version": "3.6.5"
  },
  "widgets": {
   "application/vnd.jupyter.widget-state+json": {
    "008344a449d247a3b73508bc967590ff": {
     "model_module": "@jupyter-widgets/base",
     "model_module_version": "1.2.0",
     "model_name": "LayoutModel",
     "state": {
      "_model_module": "@jupyter-widgets/base",
      "_model_module_version": "1.2.0",
      "_model_name": "LayoutModel",
      "_view_count": null,
      "_view_module": "@jupyter-widgets/base",
      "_view_module_version": "1.2.0",
      "_view_name": "LayoutView",
      "align_content": null,
      "align_items": null,
      "align_self": null,
      "border": null,
      "bottom": null,
      "display": null,
      "flex": null,
      "flex_flow": null,
      "grid_area": null,
      "grid_auto_columns": null,
      "grid_auto_flow": null,
      "grid_auto_rows": null,
      "grid_column": null,
      "grid_gap": null,
      "grid_row": null,
      "grid_template_areas": null,
      "grid_template_columns": null,
      "grid_template_rows": null,
      "height": null,
      "justify_content": null,
      "justify_items": null,
      "left": null,
      "margin": null,
      "max_height": null,
      "max_width": null,
      "min_height": null,
      "min_width": null,
      "object_fit": null,
      "object_position": null,
      "order": null,
      "overflow": null,
      "overflow_x": null,
      "overflow_y": null,
      "padding": null,
      "right": null,
      "top": null,
      "visibility": null,
      "width": null
     }
    },
    "04b29b17bba54b8bb00cf1c09c7bc148": {
     "model_module": "@jupyter-widgets/base",
     "model_module_version": "1.2.0",
     "model_name": "LayoutModel",
     "state": {
      "_model_module": "@jupyter-widgets/base",
      "_model_module_version": "1.2.0",
      "_model_name": "LayoutModel",
      "_view_count": null,
      "_view_module": "@jupyter-widgets/base",
      "_view_module_version": "1.2.0",
      "_view_name": "LayoutView",
      "align_content": null,
      "align_items": null,
      "align_self": null,
      "border": null,
      "bottom": null,
      "display": null,
      "flex": null,
      "flex_flow": null,
      "grid_area": null,
      "grid_auto_columns": null,
      "grid_auto_flow": null,
      "grid_auto_rows": null,
      "grid_column": null,
      "grid_gap": null,
      "grid_row": null,
      "grid_template_areas": null,
      "grid_template_columns": null,
      "grid_template_rows": null,
      "height": null,
      "justify_content": null,
      "justify_items": null,
      "left": null,
      "margin": null,
      "max_height": null,
      "max_width": null,
      "min_height": null,
      "min_width": null,
      "object_fit": null,
      "object_position": null,
      "order": null,
      "overflow": null,
      "overflow_x": null,
      "overflow_y": null,
      "padding": null,
      "right": null,
      "top": null,
      "visibility": null,
      "width": null
     }
    },
    "0660e8f345bd4a2e81500cc01c7f28a1": {
     "model_module": "@jupyter-widgets/controls",
     "model_module_version": "1.5.0",
     "model_name": "ProgressStyleModel",
     "state": {
      "_model_module": "@jupyter-widgets/controls",
      "_model_module_version": "1.5.0",
      "_model_name": "ProgressStyleModel",
      "_view_count": null,
      "_view_module": "@jupyter-widgets/base",
      "_view_module_version": "1.2.0",
      "_view_name": "StyleView",
      "bar_color": null,
      "description_width": ""
     }
    },
    "0b5e6559c486492a94aa1ff81fad3304": {
     "model_module": "@jupyter-widgets/base",
     "model_module_version": "1.2.0",
     "model_name": "LayoutModel",
     "state": {
      "_model_module": "@jupyter-widgets/base",
      "_model_module_version": "1.2.0",
      "_model_name": "LayoutModel",
      "_view_count": null,
      "_view_module": "@jupyter-widgets/base",
      "_view_module_version": "1.2.0",
      "_view_name": "LayoutView",
      "align_content": null,
      "align_items": null,
      "align_self": null,
      "border": null,
      "bottom": null,
      "display": null,
      "flex": null,
      "flex_flow": null,
      "grid_area": null,
      "grid_auto_columns": null,
      "grid_auto_flow": null,
      "grid_auto_rows": null,
      "grid_column": null,
      "grid_gap": null,
      "grid_row": null,
      "grid_template_areas": null,
      "grid_template_columns": null,
      "grid_template_rows": null,
      "height": null,
      "justify_content": null,
      "justify_items": null,
      "left": null,
      "margin": null,
      "max_height": null,
      "max_width": null,
      "min_height": null,
      "min_width": null,
      "object_fit": null,
      "object_position": null,
      "order": null,
      "overflow": null,
      "overflow_x": null,
      "overflow_y": null,
      "padding": null,
      "right": null,
      "top": null,
      "visibility": null,
      "width": null
     }
    },
    "1f78a95c44d64ce5a7cebf74cdd55f85": {
     "model_module": "@jupyter-widgets/controls",
     "model_module_version": "1.5.0",
     "model_name": "DescriptionStyleModel",
     "state": {
      "_model_module": "@jupyter-widgets/controls",
      "_model_module_version": "1.5.0",
      "_model_name": "DescriptionStyleModel",
      "_view_count": null,
      "_view_module": "@jupyter-widgets/base",
      "_view_module_version": "1.2.0",
      "_view_name": "StyleView",
      "description_width": ""
     }
    },
    "211d891f16f948e39d84298aeac83366": {
     "model_module": "@jupyter-widgets/controls",
     "model_module_version": "1.5.0",
     "model_name": "HTMLModel",
     "state": {
      "_dom_classes": [],
      "_model_module": "@jupyter-widgets/controls",
      "_model_module_version": "1.5.0",
      "_model_name": "HTMLModel",
      "_view_count": null,
      "_view_module": "@jupyter-widgets/controls",
      "_view_module_version": "1.5.0",
      "_view_name": "HTMLView",
      "description": "",
      "description_tooltip": null,
      "layout": "IPY_MODEL_9f1476494ac14f64adea351311f8a8d4",
      "placeholder": "​",
      "style": "IPY_MODEL_60e3ddd8386740fdad4c1f58b63919d4",
      "value": "Downloading: 100%"
     }
    },
    "23727b707f96415f9670b83673b0879d": {
     "model_module": "@jupyter-widgets/controls",
     "model_module_version": "1.5.0",
     "model_name": "HTMLModel",
     "state": {
      "_dom_classes": [],
      "_model_module": "@jupyter-widgets/controls",
      "_model_module_version": "1.5.0",
      "_model_name": "HTMLModel",
      "_view_count": null,
      "_view_module": "@jupyter-widgets/controls",
      "_view_module_version": "1.5.0",
      "_view_name": "HTMLView",
      "description": "",
      "description_tooltip": null,
      "layout": "IPY_MODEL_0b5e6559c486492a94aa1ff81fad3304",
      "placeholder": "​",
      "style": "IPY_MODEL_d8f143cded224798862d9e74c67374a2",
      "value": "Downloading: 100%"
     }
    },
    "295e915919a74129a14c4c1c0fa3efe4": {
     "model_module": "@jupyter-widgets/controls",
     "model_module_version": "1.5.0",
     "model_name": "DescriptionStyleModel",
     "state": {
      "_model_module": "@jupyter-widgets/controls",
      "_model_module_version": "1.5.0",
      "_model_name": "DescriptionStyleModel",
      "_view_count": null,
      "_view_module": "@jupyter-widgets/base",
      "_view_module_version": "1.2.0",
      "_view_name": "StyleView",
      "description_width": ""
     }
    },
    "3081baf3f5674b3d8b78f2f426b290f0": {
     "model_module": "@jupyter-widgets/controls",
     "model_module_version": "1.5.0",
     "model_name": "HBoxModel",
     "state": {
      "_dom_classes": [],
      "_model_module": "@jupyter-widgets/controls",
      "_model_module_version": "1.5.0",
      "_model_name": "HBoxModel",
      "_view_count": null,
      "_view_module": "@jupyter-widgets/controls",
      "_view_module_version": "1.5.0",
      "_view_name": "HBoxView",
      "box_style": "",
      "children": [
       "IPY_MODEL_23727b707f96415f9670b83673b0879d",
       "IPY_MODEL_469c55809c4a40cdbc70bd23f46d7854",
       "IPY_MODEL_83115bc4a0794db282aee9b22da24a29"
      ],
      "layout": "IPY_MODEL_04b29b17bba54b8bb00cf1c09c7bc148"
     }
    },
    "349e9720b5eb479388cf23e082033e5b": {
     "model_module": "@jupyter-widgets/controls",
     "model_module_version": "1.5.0",
     "model_name": "ProgressStyleModel",
     "state": {
      "_model_module": "@jupyter-widgets/controls",
      "_model_module_version": "1.5.0",
      "_model_name": "ProgressStyleModel",
      "_view_count": null,
      "_view_module": "@jupyter-widgets/base",
      "_view_module_version": "1.2.0",
      "_view_name": "StyleView",
      "bar_color": null,
      "description_width": ""
     }
    },
    "41c2ae175be34b1abcde40905a8dca58": {
     "model_module": "@jupyter-widgets/controls",
     "model_module_version": "1.5.0",
     "model_name": "DescriptionStyleModel",
     "state": {
      "_model_module": "@jupyter-widgets/controls",
      "_model_module_version": "1.5.0",
      "_model_name": "DescriptionStyleModel",
      "_view_count": null,
      "_view_module": "@jupyter-widgets/base",
      "_view_module_version": "1.2.0",
      "_view_name": "StyleView",
      "description_width": ""
     }
    },
    "44d4582dc97a4dc1a9a5b62e80d1aadf": {
     "model_module": "@jupyter-widgets/controls",
     "model_module_version": "1.5.0",
     "model_name": "ProgressStyleModel",
     "state": {
      "_model_module": "@jupyter-widgets/controls",
      "_model_module_version": "1.5.0",
      "_model_name": "ProgressStyleModel",
      "_view_count": null,
      "_view_module": "@jupyter-widgets/base",
      "_view_module_version": "1.2.0",
      "_view_name": "StyleView",
      "bar_color": null,
      "description_width": ""
     }
    },
    "469c55809c4a40cdbc70bd23f46d7854": {
     "model_module": "@jupyter-widgets/controls",
     "model_module_version": "1.5.0",
     "model_name": "FloatProgressModel",
     "state": {
      "_dom_classes": [],
      "_model_module": "@jupyter-widgets/controls",
      "_model_module_version": "1.5.0",
      "_model_name": "FloatProgressModel",
      "_view_count": null,
      "_view_module": "@jupyter-widgets/controls",
      "_view_module_version": "1.5.0",
      "_view_name": "ProgressView",
      "bar_style": "success",
      "description": "",
      "description_tooltip": null,
      "layout": "IPY_MODEL_724d0670532d4ec18627c4592eda56d7",
      "max": 267967963,
      "min": 0,
      "orientation": "horizontal",
      "style": "IPY_MODEL_5349525ca51c466fa4b0e99788f2b668",
      "value": 267967963
     }
    },
    "47bbfc31ce7940f08ba006e9eedc69cb": {
     "model_module": "@jupyter-widgets/controls",
     "model_module_version": "1.5.0",
     "model_name": "FloatProgressModel",
     "state": {
      "_dom_classes": [],
      "_model_module": "@jupyter-widgets/controls",
      "_model_module_version": "1.5.0",
      "_model_name": "FloatProgressModel",
      "_view_count": null,
      "_view_module": "@jupyter-widgets/controls",
      "_view_module_version": "1.5.0",
      "_view_name": "ProgressView",
      "bar_style": "success",
      "description": "",
      "description_tooltip": null,
      "layout": "IPY_MODEL_008344a449d247a3b73508bc967590ff",
      "max": 28,
      "min": 0,
      "orientation": "horizontal",
      "style": "IPY_MODEL_0660e8f345bd4a2e81500cc01c7f28a1",
      "value": 28
     }
    },
    "4c0cec8e59944997a6a3425a76ed3df9": {
     "model_module": "@jupyter-widgets/base",
     "model_module_version": "1.2.0",
     "model_name": "LayoutModel",
     "state": {
      "_model_module": "@jupyter-widgets/base",
      "_model_module_version": "1.2.0",
      "_model_name": "LayoutModel",
      "_view_count": null,
      "_view_module": "@jupyter-widgets/base",
      "_view_module_version": "1.2.0",
      "_view_name": "LayoutView",
      "align_content": null,
      "align_items": null,
      "align_self": null,
      "border": null,
      "bottom": null,
      "display": null,
      "flex": null,
      "flex_flow": null,
      "grid_area": null,
      "grid_auto_columns": null,
      "grid_auto_flow": null,
      "grid_auto_rows": null,
      "grid_column": null,
      "grid_gap": null,
      "grid_row": null,
      "grid_template_areas": null,
      "grid_template_columns": null,
      "grid_template_rows": null,
      "height": null,
      "justify_content": null,
      "justify_items": null,
      "left": null,
      "margin": null,
      "max_height": null,
      "max_width": null,
      "min_height": null,
      "min_width": null,
      "object_fit": null,
      "object_position": null,
      "order": null,
      "overflow": null,
      "overflow_x": null,
      "overflow_y": null,
      "padding": null,
      "right": null,
      "top": null,
      "visibility": null,
      "width": null
     }
    },
    "520ac745daa0490ca7cf4ca3d69c4d24": {
     "model_module": "@jupyter-widgets/controls",
     "model_module_version": "1.5.0",
     "model_name": "DescriptionStyleModel",
     "state": {
      "_model_module": "@jupyter-widgets/controls",
      "_model_module_version": "1.5.0",
      "_model_name": "DescriptionStyleModel",
      "_view_count": null,
      "_view_module": "@jupyter-widgets/base",
      "_view_module_version": "1.2.0",
      "_view_name": "StyleView",
      "description_width": ""
     }
    },
    "5349525ca51c466fa4b0e99788f2b668": {
     "model_module": "@jupyter-widgets/controls",
     "model_module_version": "1.5.0",
     "model_name": "ProgressStyleModel",
     "state": {
      "_model_module": "@jupyter-widgets/controls",
      "_model_module_version": "1.5.0",
      "_model_name": "ProgressStyleModel",
      "_view_count": null,
      "_view_module": "@jupyter-widgets/base",
      "_view_module_version": "1.2.0",
      "_view_name": "StyleView",
      "bar_color": null,
      "description_width": ""
     }
    },
    "5601c6146d6144eeb42bd8d59000aa9b": {
     "model_module": "@jupyter-widgets/controls",
     "model_module_version": "1.5.0",
     "model_name": "HTMLModel",
     "state": {
      "_dom_classes": [],
      "_model_module": "@jupyter-widgets/controls",
      "_model_module_version": "1.5.0",
      "_model_name": "HTMLModel",
      "_view_count": null,
      "_view_module": "@jupyter-widgets/controls",
      "_view_module_version": "1.5.0",
      "_view_name": "HTMLView",
      "description": "",
      "description_tooltip": null,
      "layout": "IPY_MODEL_d4603121b7ea450abefad2bb54fd0322",
      "placeholder": "​",
      "style": "IPY_MODEL_67e9de6ab28e4e7dbe17986df18f16fc",
      "value": " 28.0/28.0 [00:00&lt;00:00, 655B/s]"
     }
    },
    "57587f6931694cadb017d55a42799977": {
     "model_module": "@jupyter-widgets/base",
     "model_module_version": "1.2.0",
     "model_name": "LayoutModel",
     "state": {
      "_model_module": "@jupyter-widgets/base",
      "_model_module_version": "1.2.0",
      "_model_name": "LayoutModel",
      "_view_count": null,
      "_view_module": "@jupyter-widgets/base",
      "_view_module_version": "1.2.0",
      "_view_name": "LayoutView",
      "align_content": null,
      "align_items": null,
      "align_self": null,
      "border": null,
      "bottom": null,
      "display": null,
      "flex": null,
      "flex_flow": null,
      "grid_area": null,
      "grid_auto_columns": null,
      "grid_auto_flow": null,
      "grid_auto_rows": null,
      "grid_column": null,
      "grid_gap": null,
      "grid_row": null,
      "grid_template_areas": null,
      "grid_template_columns": null,
      "grid_template_rows": null,
      "height": null,
      "justify_content": null,
      "justify_items": null,
      "left": null,
      "margin": null,
      "max_height": null,
      "max_width": null,
      "min_height": null,
      "min_width": null,
      "object_fit": null,
      "object_position": null,
      "order": null,
      "overflow": null,
      "overflow_x": null,
      "overflow_y": null,
      "padding": null,
      "right": null,
      "top": null,
      "visibility": null,
      "width": null
     }
    },
    "5c90da654ae84e7b9ba12b56c4c2d3e9": {
     "model_module": "@jupyter-widgets/base",
     "model_module_version": "1.2.0",
     "model_name": "LayoutModel",
     "state": {
      "_model_module": "@jupyter-widgets/base",
      "_model_module_version": "1.2.0",
      "_model_name": "LayoutModel",
      "_view_count": null,
      "_view_module": "@jupyter-widgets/base",
      "_view_module_version": "1.2.0",
      "_view_name": "LayoutView",
      "align_content": null,
      "align_items": null,
      "align_self": null,
      "border": null,
      "bottom": null,
      "display": null,
      "flex": null,
      "flex_flow": null,
      "grid_area": null,
      "grid_auto_columns": null,
      "grid_auto_flow": null,
      "grid_auto_rows": null,
      "grid_column": null,
      "grid_gap": null,
      "grid_row": null,
      "grid_template_areas": null,
      "grid_template_columns": null,
      "grid_template_rows": null,
      "height": null,
      "justify_content": null,
      "justify_items": null,
      "left": null,
      "margin": null,
      "max_height": null,
      "max_width": null,
      "min_height": null,
      "min_width": null,
      "object_fit": null,
      "object_position": null,
      "order": null,
      "overflow": null,
      "overflow_x": null,
      "overflow_y": null,
      "padding": null,
      "right": null,
      "top": null,
      "visibility": null,
      "width": null
     }
    },
    "5cda8384461b4231aed1a1afc0353d3a": {
     "model_module": "@jupyter-widgets/controls",
     "model_module_version": "1.5.0",
     "model_name": "DescriptionStyleModel",
     "state": {
      "_model_module": "@jupyter-widgets/controls",
      "_model_module_version": "1.5.0",
      "_model_name": "DescriptionStyleModel",
      "_view_count": null,
      "_view_module": "@jupyter-widgets/base",
      "_view_module_version": "1.2.0",
      "_view_name": "StyleView",
      "description_width": ""
     }
    },
    "60e3ddd8386740fdad4c1f58b63919d4": {
     "model_module": "@jupyter-widgets/controls",
     "model_module_version": "1.5.0",
     "model_name": "DescriptionStyleModel",
     "state": {
      "_model_module": "@jupyter-widgets/controls",
      "_model_module_version": "1.5.0",
      "_model_name": "DescriptionStyleModel",
      "_view_count": null,
      "_view_module": "@jupyter-widgets/base",
      "_view_module_version": "1.2.0",
      "_view_name": "StyleView",
      "description_width": ""
     }
    },
    "67e9de6ab28e4e7dbe17986df18f16fc": {
     "model_module": "@jupyter-widgets/controls",
     "model_module_version": "1.5.0",
     "model_name": "DescriptionStyleModel",
     "state": {
      "_model_module": "@jupyter-widgets/controls",
      "_model_module_version": "1.5.0",
      "_model_name": "DescriptionStyleModel",
      "_view_count": null,
      "_view_module": "@jupyter-widgets/base",
      "_view_module_version": "1.2.0",
      "_view_name": "StyleView",
      "description_width": ""
     }
    },
    "6a9eb39aee7643bd87ac7f82d658e2c7": {
     "model_module": "@jupyter-widgets/controls",
     "model_module_version": "1.5.0",
     "model_name": "HTMLModel",
     "state": {
      "_dom_classes": [],
      "_model_module": "@jupyter-widgets/controls",
      "_model_module_version": "1.5.0",
      "_model_name": "HTMLModel",
      "_view_count": null,
      "_view_module": "@jupyter-widgets/controls",
      "_view_module_version": "1.5.0",
      "_view_name": "HTMLView",
      "description": "",
      "description_tooltip": null,
      "layout": "IPY_MODEL_70278494112f4a488fb2b001cc578961",
      "placeholder": "​",
      "style": "IPY_MODEL_295e915919a74129a14c4c1c0fa3efe4",
      "value": "Downloading: 100%"
     }
    },
    "6fc49a640bf04b53b611503483b45b7f": {
     "model_module": "@jupyter-widgets/controls",
     "model_module_version": "1.5.0",
     "model_name": "FloatProgressModel",
     "state": {
      "_dom_classes": [],
      "_model_module": "@jupyter-widgets/controls",
      "_model_module_version": "1.5.0",
      "_model_name": "FloatProgressModel",
      "_view_count": null,
      "_view_module": "@jupyter-widgets/controls",
      "_view_module_version": "1.5.0",
      "_view_name": "ProgressView",
      "bar_style": "success",
      "description": "",
      "description_tooltip": null,
      "layout": "IPY_MODEL_9bf0ed96e3e24dc7b5024f6f38da644d",
      "max": 483,
      "min": 0,
      "orientation": "horizontal",
      "style": "IPY_MODEL_349e9720b5eb479388cf23e082033e5b",
      "value": 483
     }
    },
    "70278494112f4a488fb2b001cc578961": {
     "model_module": "@jupyter-widgets/base",
     "model_module_version": "1.2.0",
     "model_name": "LayoutModel",
     "state": {
      "_model_module": "@jupyter-widgets/base",
      "_model_module_version": "1.2.0",
      "_model_name": "LayoutModel",
      "_view_count": null,
      "_view_module": "@jupyter-widgets/base",
      "_view_module_version": "1.2.0",
      "_view_name": "LayoutView",
      "align_content": null,
      "align_items": null,
      "align_self": null,
      "border": null,
      "bottom": null,
      "display": null,
      "flex": null,
      "flex_flow": null,
      "grid_area": null,
      "grid_auto_columns": null,
      "grid_auto_flow": null,
      "grid_auto_rows": null,
      "grid_column": null,
      "grid_gap": null,
      "grid_row": null,
      "grid_template_areas": null,
      "grid_template_columns": null,
      "grid_template_rows": null,
      "height": null,
      "justify_content": null,
      "justify_items": null,
      "left": null,
      "margin": null,
      "max_height": null,
      "max_width": null,
      "min_height": null,
      "min_width": null,
      "object_fit": null,
      "object_position": null,
      "order": null,
      "overflow": null,
      "overflow_x": null,
      "overflow_y": null,
      "padding": null,
      "right": null,
      "top": null,
      "visibility": null,
      "width": null
     }
    },
    "724d0670532d4ec18627c4592eda56d7": {
     "model_module": "@jupyter-widgets/base",
     "model_module_version": "1.2.0",
     "model_name": "LayoutModel",
     "state": {
      "_model_module": "@jupyter-widgets/base",
      "_model_module_version": "1.2.0",
      "_model_name": "LayoutModel",
      "_view_count": null,
      "_view_module": "@jupyter-widgets/base",
      "_view_module_version": "1.2.0",
      "_view_name": "LayoutView",
      "align_content": null,
      "align_items": null,
      "align_self": null,
      "border": null,
      "bottom": null,
      "display": null,
      "flex": null,
      "flex_flow": null,
      "grid_area": null,
      "grid_auto_columns": null,
      "grid_auto_flow": null,
      "grid_auto_rows": null,
      "grid_column": null,
      "grid_gap": null,
      "grid_row": null,
      "grid_template_areas": null,
      "grid_template_columns": null,
      "grid_template_rows": null,
      "height": null,
      "justify_content": null,
      "justify_items": null,
      "left": null,
      "margin": null,
      "max_height": null,
      "max_width": null,
      "min_height": null,
      "min_width": null,
      "object_fit": null,
      "object_position": null,
      "order": null,
      "overflow": null,
      "overflow_x": null,
      "overflow_y": null,
      "padding": null,
      "right": null,
      "top": null,
      "visibility": null,
      "width": null
     }
    },
    "7433fdeefcaa4af8996e16848459e4d8": {
     "model_module": "@jupyter-widgets/controls",
     "model_module_version": "1.5.0",
     "model_name": "HBoxModel",
     "state": {
      "_dom_classes": [],
      "_model_module": "@jupyter-widgets/controls",
      "_model_module_version": "1.5.0",
      "_model_name": "HBoxModel",
      "_view_count": null,
      "_view_module": "@jupyter-widgets/controls",
      "_view_module_version": "1.5.0",
      "_view_name": "HBoxView",
      "box_style": "",
      "children": [
       "IPY_MODEL_818bb97664494dee8a427a4e1c358b8e",
       "IPY_MODEL_a0d3bb4fe9814e8e9d3f2580d6d0decd",
       "IPY_MODEL_838107ce69254278b07e6fe3c9017435"
      ],
      "layout": "IPY_MODEL_fd7ac59fcf554011ab4f7f596dc031cf"
     }
    },
    "7e3be01a49504a49b9217e750b061a5f": {
     "model_module": "@jupyter-widgets/controls",
     "model_module_version": "1.5.0",
     "model_name": "ProgressStyleModel",
     "state": {
      "_model_module": "@jupyter-widgets/controls",
      "_model_module_version": "1.5.0",
      "_model_name": "ProgressStyleModel",
      "_view_count": null,
      "_view_module": "@jupyter-widgets/base",
      "_view_module_version": "1.2.0",
      "_view_name": "StyleView",
      "bar_color": null,
      "description_width": ""
     }
    },
    "818bb97664494dee8a427a4e1c358b8e": {
     "model_module": "@jupyter-widgets/controls",
     "model_module_version": "1.5.0",
     "model_name": "HTMLModel",
     "state": {
      "_dom_classes": [],
      "_model_module": "@jupyter-widgets/controls",
      "_model_module_version": "1.5.0",
      "_model_name": "HTMLModel",
      "_view_count": null,
      "_view_module": "@jupyter-widgets/controls",
      "_view_module_version": "1.5.0",
      "_view_name": "HTMLView",
      "description": "",
      "description_tooltip": null,
      "layout": "IPY_MODEL_a31d4e23355b431ea2b3df7965f03e23",
      "placeholder": "​",
      "style": "IPY_MODEL_1f78a95c44d64ce5a7cebf74cdd55f85",
      "value": "Downloading: 100%"
     }
    },
    "83115bc4a0794db282aee9b22da24a29": {
     "model_module": "@jupyter-widgets/controls",
     "model_module_version": "1.5.0",
     "model_name": "HTMLModel",
     "state": {
      "_dom_classes": [],
      "_model_module": "@jupyter-widgets/controls",
      "_model_module_version": "1.5.0",
      "_model_name": "HTMLModel",
      "_view_count": null,
      "_view_module": "@jupyter-widgets/controls",
      "_view_module_version": "1.5.0",
      "_view_name": "HTMLView",
      "description": "",
      "description_tooltip": null,
      "layout": "IPY_MODEL_8d76f8dc7c41478a90a1b2eb3349dc26",
      "placeholder": "​",
      "style": "IPY_MODEL_ed968a2edf7646b6b1c62102bec74c30",
      "value": " 256M/256M [00:08&lt;00:00, 32.0MB/s]"
     }
    },
    "838107ce69254278b07e6fe3c9017435": {
     "model_module": "@jupyter-widgets/controls",
     "model_module_version": "1.5.0",
     "model_name": "HTMLModel",
     "state": {
      "_dom_classes": [],
      "_model_module": "@jupyter-widgets/controls",
      "_model_module_version": "1.5.0",
      "_model_name": "HTMLModel",
      "_view_count": null,
      "_view_module": "@jupyter-widgets/controls",
      "_view_module_version": "1.5.0",
      "_view_name": "HTMLView",
      "description": "",
      "description_tooltip": null,
      "layout": "IPY_MODEL_c177f0ec3fe8460aa715750576357c5e",
      "placeholder": "​",
      "style": "IPY_MODEL_d70e997c5a2d4f99b2f5df5b6616147b",
      "value": " 226k/226k [00:00&lt;00:00, 400kB/s]"
     }
    },
    "8d76f8dc7c41478a90a1b2eb3349dc26": {
     "model_module": "@jupyter-widgets/base",
     "model_module_version": "1.2.0",
     "model_name": "LayoutModel",
     "state": {
      "_model_module": "@jupyter-widgets/base",
      "_model_module_version": "1.2.0",
      "_model_name": "LayoutModel",
      "_view_count": null,
      "_view_module": "@jupyter-widgets/base",
      "_view_module_version": "1.2.0",
      "_view_name": "LayoutView",
      "align_content": null,
      "align_items": null,
      "align_self": null,
      "border": null,
      "bottom": null,
      "display": null,
      "flex": null,
      "flex_flow": null,
      "grid_area": null,
      "grid_auto_columns": null,
      "grid_auto_flow": null,
      "grid_auto_rows": null,
      "grid_column": null,
      "grid_gap": null,
      "grid_row": null,
      "grid_template_areas": null,
      "grid_template_columns": null,
      "grid_template_rows": null,
      "height": null,
      "justify_content": null,
      "justify_items": null,
      "left": null,
      "margin": null,
      "max_height": null,
      "max_width": null,
      "min_height": null,
      "min_width": null,
      "object_fit": null,
      "object_position": null,
      "order": null,
      "overflow": null,
      "overflow_x": null,
      "overflow_y": null,
      "padding": null,
      "right": null,
      "top": null,
      "visibility": null,
      "width": null
     }
    },
    "8e32347de3f54edd872d3596e6537c1b": {
     "model_module": "@jupyter-widgets/base",
     "model_module_version": "1.2.0",
     "model_name": "LayoutModel",
     "state": {
      "_model_module": "@jupyter-widgets/base",
      "_model_module_version": "1.2.0",
      "_model_name": "LayoutModel",
      "_view_count": null,
      "_view_module": "@jupyter-widgets/base",
      "_view_module_version": "1.2.0",
      "_view_name": "LayoutView",
      "align_content": null,
      "align_items": null,
      "align_self": null,
      "border": null,
      "bottom": null,
      "display": null,
      "flex": null,
      "flex_flow": null,
      "grid_area": null,
      "grid_auto_columns": null,
      "grid_auto_flow": null,
      "grid_auto_rows": null,
      "grid_column": null,
      "grid_gap": null,
      "grid_row": null,
      "grid_template_areas": null,
      "grid_template_columns": null,
      "grid_template_rows": null,
      "height": null,
      "justify_content": null,
      "justify_items": null,
      "left": null,
      "margin": null,
      "max_height": null,
      "max_width": null,
      "min_height": null,
      "min_width": null,
      "object_fit": null,
      "object_position": null,
      "order": null,
      "overflow": null,
      "overflow_x": null,
      "overflow_y": null,
      "padding": null,
      "right": null,
      "top": null,
      "visibility": null,
      "width": null
     }
    },
    "8f32d7860a854a93937c82227c167458": {
     "model_module": "@jupyter-widgets/controls",
     "model_module_version": "1.5.0",
     "model_name": "HTMLModel",
     "state": {
      "_dom_classes": [],
      "_model_module": "@jupyter-widgets/controls",
      "_model_module_version": "1.5.0",
      "_model_name": "HTMLModel",
      "_view_count": null,
      "_view_module": "@jupyter-widgets/controls",
      "_view_module_version": "1.5.0",
      "_view_name": "HTMLView",
      "description": "",
      "description_tooltip": null,
      "layout": "IPY_MODEL_57587f6931694cadb017d55a42799977",
      "placeholder": "​",
      "style": "IPY_MODEL_5cda8384461b4231aed1a1afc0353d3a",
      "value": " 455k/455k [00:00&lt;00:00, 644kB/s]"
     }
    },
    "94401c41cab84a989b59b6719aacd5ed": {
     "model_module": "@jupyter-widgets/base",
     "model_module_version": "1.2.0",
     "model_name": "LayoutModel",
     "state": {
      "_model_module": "@jupyter-widgets/base",
      "_model_module_version": "1.2.0",
      "_model_name": "LayoutModel",
      "_view_count": null,
      "_view_module": "@jupyter-widgets/base",
      "_view_module_version": "1.2.0",
      "_view_name": "LayoutView",
      "align_content": null,
      "align_items": null,
      "align_self": null,
      "border": null,
      "bottom": null,
      "display": null,
      "flex": null,
      "flex_flow": null,
      "grid_area": null,
      "grid_auto_columns": null,
      "grid_auto_flow": null,
      "grid_auto_rows": null,
      "grid_column": null,
      "grid_gap": null,
      "grid_row": null,
      "grid_template_areas": null,
      "grid_template_columns": null,
      "grid_template_rows": null,
      "height": null,
      "justify_content": null,
      "justify_items": null,
      "left": null,
      "margin": null,
      "max_height": null,
      "max_width": null,
      "min_height": null,
      "min_width": null,
      "object_fit": null,
      "object_position": null,
      "order": null,
      "overflow": null,
      "overflow_x": null,
      "overflow_y": null,
      "padding": null,
      "right": null,
      "top": null,
      "visibility": null,
      "width": null
     }
    },
    "9bf0ed96e3e24dc7b5024f6f38da644d": {
     "model_module": "@jupyter-widgets/base",
     "model_module_version": "1.2.0",
     "model_name": "LayoutModel",
     "state": {
      "_model_module": "@jupyter-widgets/base",
      "_model_module_version": "1.2.0",
      "_model_name": "LayoutModel",
      "_view_count": null,
      "_view_module": "@jupyter-widgets/base",
      "_view_module_version": "1.2.0",
      "_view_name": "LayoutView",
      "align_content": null,
      "align_items": null,
      "align_self": null,
      "border": null,
      "bottom": null,
      "display": null,
      "flex": null,
      "flex_flow": null,
      "grid_area": null,
      "grid_auto_columns": null,
      "grid_auto_flow": null,
      "grid_auto_rows": null,
      "grid_column": null,
      "grid_gap": null,
      "grid_row": null,
      "grid_template_areas": null,
      "grid_template_columns": null,
      "grid_template_rows": null,
      "height": null,
      "justify_content": null,
      "justify_items": null,
      "left": null,
      "margin": null,
      "max_height": null,
      "max_width": null,
      "min_height": null,
      "min_width": null,
      "object_fit": null,
      "object_position": null,
      "order": null,
      "overflow": null,
      "overflow_x": null,
      "overflow_y": null,
      "padding": null,
      "right": null,
      "top": null,
      "visibility": null,
      "width": null
     }
    },
    "9c516c8ee1da4e4f836f48a6ed636366": {
     "model_module": "@jupyter-widgets/controls",
     "model_module_version": "1.5.0",
     "model_name": "HTMLModel",
     "state": {
      "_dom_classes": [],
      "_model_module": "@jupyter-widgets/controls",
      "_model_module_version": "1.5.0",
      "_model_name": "HTMLModel",
      "_view_count": null,
      "_view_module": "@jupyter-widgets/controls",
      "_view_module_version": "1.5.0",
      "_view_name": "HTMLView",
      "description": "",
      "description_tooltip": null,
      "layout": "IPY_MODEL_94401c41cab84a989b59b6719aacd5ed",
      "placeholder": "​",
      "style": "IPY_MODEL_520ac745daa0490ca7cf4ca3d69c4d24",
      "value": "Downloading: 100%"
     }
    },
    "9f1476494ac14f64adea351311f8a8d4": {
     "model_module": "@jupyter-widgets/base",
     "model_module_version": "1.2.0",
     "model_name": "LayoutModel",
     "state": {
      "_model_module": "@jupyter-widgets/base",
      "_model_module_version": "1.2.0",
      "_model_name": "LayoutModel",
      "_view_count": null,
      "_view_module": "@jupyter-widgets/base",
      "_view_module_version": "1.2.0",
      "_view_name": "LayoutView",
      "align_content": null,
      "align_items": null,
      "align_self": null,
      "border": null,
      "bottom": null,
      "display": null,
      "flex": null,
      "flex_flow": null,
      "grid_area": null,
      "grid_auto_columns": null,
      "grid_auto_flow": null,
      "grid_auto_rows": null,
      "grid_column": null,
      "grid_gap": null,
      "grid_row": null,
      "grid_template_areas": null,
      "grid_template_columns": null,
      "grid_template_rows": null,
      "height": null,
      "justify_content": null,
      "justify_items": null,
      "left": null,
      "margin": null,
      "max_height": null,
      "max_width": null,
      "min_height": null,
      "min_width": null,
      "object_fit": null,
      "object_position": null,
      "order": null,
      "overflow": null,
      "overflow_x": null,
      "overflow_y": null,
      "padding": null,
      "right": null,
      "top": null,
      "visibility": null,
      "width": null
     }
    },
    "a0d3bb4fe9814e8e9d3f2580d6d0decd": {
     "model_module": "@jupyter-widgets/controls",
     "model_module_version": "1.5.0",
     "model_name": "FloatProgressModel",
     "state": {
      "_dom_classes": [],
      "_model_module": "@jupyter-widgets/controls",
      "_model_module_version": "1.5.0",
      "_model_name": "FloatProgressModel",
      "_view_count": null,
      "_view_module": "@jupyter-widgets/controls",
      "_view_module_version": "1.5.0",
      "_view_name": "ProgressView",
      "bar_style": "success",
      "description": "",
      "description_tooltip": null,
      "layout": "IPY_MODEL_c027732c02f1427b99f28ca0c4b3f8b8",
      "max": 231508,
      "min": 0,
      "orientation": "horizontal",
      "style": "IPY_MODEL_44d4582dc97a4dc1a9a5b62e80d1aadf",
      "value": 231508
     }
    },
    "a31d4e23355b431ea2b3df7965f03e23": {
     "model_module": "@jupyter-widgets/base",
     "model_module_version": "1.2.0",
     "model_name": "LayoutModel",
     "state": {
      "_model_module": "@jupyter-widgets/base",
      "_model_module_version": "1.2.0",
      "_model_name": "LayoutModel",
      "_view_count": null,
      "_view_module": "@jupyter-widgets/base",
      "_view_module_version": "1.2.0",
      "_view_name": "LayoutView",
      "align_content": null,
      "align_items": null,
      "align_self": null,
      "border": null,
      "bottom": null,
      "display": null,
      "flex": null,
      "flex_flow": null,
      "grid_area": null,
      "grid_auto_columns": null,
      "grid_auto_flow": null,
      "grid_auto_rows": null,
      "grid_column": null,
      "grid_gap": null,
      "grid_row": null,
      "grid_template_areas": null,
      "grid_template_columns": null,
      "grid_template_rows": null,
      "height": null,
      "justify_content": null,
      "justify_items": null,
      "left": null,
      "margin": null,
      "max_height": null,
      "max_width": null,
      "min_height": null,
      "min_width": null,
      "object_fit": null,
      "object_position": null,
      "order": null,
      "overflow": null,
      "overflow_x": null,
      "overflow_y": null,
      "padding": null,
      "right": null,
      "top": null,
      "visibility": null,
      "width": null
     }
    },
    "b6c1eee219a041c7a5aab420d2a1fe74": {
     "model_module": "@jupyter-widgets/base",
     "model_module_version": "1.2.0",
     "model_name": "LayoutModel",
     "state": {
      "_model_module": "@jupyter-widgets/base",
      "_model_module_version": "1.2.0",
      "_model_name": "LayoutModel",
      "_view_count": null,
      "_view_module": "@jupyter-widgets/base",
      "_view_module_version": "1.2.0",
      "_view_name": "LayoutView",
      "align_content": null,
      "align_items": null,
      "align_self": null,
      "border": null,
      "bottom": null,
      "display": null,
      "flex": null,
      "flex_flow": null,
      "grid_area": null,
      "grid_auto_columns": null,
      "grid_auto_flow": null,
      "grid_auto_rows": null,
      "grid_column": null,
      "grid_gap": null,
      "grid_row": null,
      "grid_template_areas": null,
      "grid_template_columns": null,
      "grid_template_rows": null,
      "height": null,
      "justify_content": null,
      "justify_items": null,
      "left": null,
      "margin": null,
      "max_height": null,
      "max_width": null,
      "min_height": null,
      "min_width": null,
      "object_fit": null,
      "object_position": null,
      "order": null,
      "overflow": null,
      "overflow_x": null,
      "overflow_y": null,
      "padding": null,
      "right": null,
      "top": null,
      "visibility": null,
      "width": null
     }
    },
    "bed71e3648ae4224a7f800c0d553f2ea": {
     "model_module": "@jupyter-widgets/controls",
     "model_module_version": "1.5.0",
     "model_name": "HTMLModel",
     "state": {
      "_dom_classes": [],
      "_model_module": "@jupyter-widgets/controls",
      "_model_module_version": "1.5.0",
      "_model_name": "HTMLModel",
      "_view_count": null,
      "_view_module": "@jupyter-widgets/controls",
      "_view_module_version": "1.5.0",
      "_view_name": "HTMLView",
      "description": "",
      "description_tooltip": null,
      "layout": "IPY_MODEL_4c0cec8e59944997a6a3425a76ed3df9",
      "placeholder": "​",
      "style": "IPY_MODEL_41c2ae175be34b1abcde40905a8dca58",
      "value": " 483/483 [00:00&lt;00:00, 13.1kB/s]"
     }
    },
    "c027732c02f1427b99f28ca0c4b3f8b8": {
     "model_module": "@jupyter-widgets/base",
     "model_module_version": "1.2.0",
     "model_name": "LayoutModel",
     "state": {
      "_model_module": "@jupyter-widgets/base",
      "_model_module_version": "1.2.0",
      "_model_name": "LayoutModel",
      "_view_count": null,
      "_view_module": "@jupyter-widgets/base",
      "_view_module_version": "1.2.0",
      "_view_name": "LayoutView",
      "align_content": null,
      "align_items": null,
      "align_self": null,
      "border": null,
      "bottom": null,
      "display": null,
      "flex": null,
      "flex_flow": null,
      "grid_area": null,
      "grid_auto_columns": null,
      "grid_auto_flow": null,
      "grid_auto_rows": null,
      "grid_column": null,
      "grid_gap": null,
      "grid_row": null,
      "grid_template_areas": null,
      "grid_template_columns": null,
      "grid_template_rows": null,
      "height": null,
      "justify_content": null,
      "justify_items": null,
      "left": null,
      "margin": null,
      "max_height": null,
      "max_width": null,
      "min_height": null,
      "min_width": null,
      "object_fit": null,
      "object_position": null,
      "order": null,
      "overflow": null,
      "overflow_x": null,
      "overflow_y": null,
      "padding": null,
      "right": null,
      "top": null,
      "visibility": null,
      "width": null
     }
    },
    "c177f0ec3fe8460aa715750576357c5e": {
     "model_module": "@jupyter-widgets/base",
     "model_module_version": "1.2.0",
     "model_name": "LayoutModel",
     "state": {
      "_model_module": "@jupyter-widgets/base",
      "_model_module_version": "1.2.0",
      "_model_name": "LayoutModel",
      "_view_count": null,
      "_view_module": "@jupyter-widgets/base",
      "_view_module_version": "1.2.0",
      "_view_name": "LayoutView",
      "align_content": null,
      "align_items": null,
      "align_self": null,
      "border": null,
      "bottom": null,
      "display": null,
      "flex": null,
      "flex_flow": null,
      "grid_area": null,
      "grid_auto_columns": null,
      "grid_auto_flow": null,
      "grid_auto_rows": null,
      "grid_column": null,
      "grid_gap": null,
      "grid_row": null,
      "grid_template_areas": null,
      "grid_template_columns": null,
      "grid_template_rows": null,
      "height": null,
      "justify_content": null,
      "justify_items": null,
      "left": null,
      "margin": null,
      "max_height": null,
      "max_width": null,
      "min_height": null,
      "min_width": null,
      "object_fit": null,
      "object_position": null,
      "order": null,
      "overflow": null,
      "overflow_x": null,
      "overflow_y": null,
      "padding": null,
      "right": null,
      "top": null,
      "visibility": null,
      "width": null
     }
    },
    "cfdc9461800f482189dbb7c2c0563108": {
     "model_module": "@jupyter-widgets/base",
     "model_module_version": "1.2.0",
     "model_name": "LayoutModel",
     "state": {
      "_model_module": "@jupyter-widgets/base",
      "_model_module_version": "1.2.0",
      "_model_name": "LayoutModel",
      "_view_count": null,
      "_view_module": "@jupyter-widgets/base",
      "_view_module_version": "1.2.0",
      "_view_name": "LayoutView",
      "align_content": null,
      "align_items": null,
      "align_self": null,
      "border": null,
      "bottom": null,
      "display": null,
      "flex": null,
      "flex_flow": null,
      "grid_area": null,
      "grid_auto_columns": null,
      "grid_auto_flow": null,
      "grid_auto_rows": null,
      "grid_column": null,
      "grid_gap": null,
      "grid_row": null,
      "grid_template_areas": null,
      "grid_template_columns": null,
      "grid_template_rows": null,
      "height": null,
      "justify_content": null,
      "justify_items": null,
      "left": null,
      "margin": null,
      "max_height": null,
      "max_width": null,
      "min_height": null,
      "min_width": null,
      "object_fit": null,
      "object_position": null,
      "order": null,
      "overflow": null,
      "overflow_x": null,
      "overflow_y": null,
      "padding": null,
      "right": null,
      "top": null,
      "visibility": null,
      "width": null
     }
    },
    "d42f888f2ed140ae893451947617cc1f": {
     "model_module": "@jupyter-widgets/controls",
     "model_module_version": "1.5.0",
     "model_name": "HBoxModel",
     "state": {
      "_dom_classes": [],
      "_model_module": "@jupyter-widgets/controls",
      "_model_module_version": "1.5.0",
      "_model_name": "HBoxModel",
      "_view_count": null,
      "_view_module": "@jupyter-widgets/controls",
      "_view_module_version": "1.5.0",
      "_view_name": "HBoxView",
      "box_style": "",
      "children": [
       "IPY_MODEL_6a9eb39aee7643bd87ac7f82d658e2c7",
       "IPY_MODEL_47bbfc31ce7940f08ba006e9eedc69cb",
       "IPY_MODEL_5601c6146d6144eeb42bd8d59000aa9b"
      ],
      "layout": "IPY_MODEL_8e32347de3f54edd872d3596e6537c1b"
     }
    },
    "d4603121b7ea450abefad2bb54fd0322": {
     "model_module": "@jupyter-widgets/base",
     "model_module_version": "1.2.0",
     "model_name": "LayoutModel",
     "state": {
      "_model_module": "@jupyter-widgets/base",
      "_model_module_version": "1.2.0",
      "_model_name": "LayoutModel",
      "_view_count": null,
      "_view_module": "@jupyter-widgets/base",
      "_view_module_version": "1.2.0",
      "_view_name": "LayoutView",
      "align_content": null,
      "align_items": null,
      "align_self": null,
      "border": null,
      "bottom": null,
      "display": null,
      "flex": null,
      "flex_flow": null,
      "grid_area": null,
      "grid_auto_columns": null,
      "grid_auto_flow": null,
      "grid_auto_rows": null,
      "grid_column": null,
      "grid_gap": null,
      "grid_row": null,
      "grid_template_areas": null,
      "grid_template_columns": null,
      "grid_template_rows": null,
      "height": null,
      "justify_content": null,
      "justify_items": null,
      "left": null,
      "margin": null,
      "max_height": null,
      "max_width": null,
      "min_height": null,
      "min_width": null,
      "object_fit": null,
      "object_position": null,
      "order": null,
      "overflow": null,
      "overflow_x": null,
      "overflow_y": null,
      "padding": null,
      "right": null,
      "top": null,
      "visibility": null,
      "width": null
     }
    },
    "d51660f7708f474ba48a5f31751ca6ab": {
     "model_module": "@jupyter-widgets/controls",
     "model_module_version": "1.5.0",
     "model_name": "FloatProgressModel",
     "state": {
      "_dom_classes": [],
      "_model_module": "@jupyter-widgets/controls",
      "_model_module_version": "1.5.0",
      "_model_name": "FloatProgressModel",
      "_view_count": null,
      "_view_module": "@jupyter-widgets/controls",
      "_view_module_version": "1.5.0",
      "_view_name": "ProgressView",
      "bar_style": "success",
      "description": "",
      "description_tooltip": null,
      "layout": "IPY_MODEL_5c90da654ae84e7b9ba12b56c4c2d3e9",
      "max": 466062,
      "min": 0,
      "orientation": "horizontal",
      "style": "IPY_MODEL_7e3be01a49504a49b9217e750b061a5f",
      "value": 466062
     }
    },
    "d66bbf255096440c9d6da01b054bb4cf": {
     "model_module": "@jupyter-widgets/controls",
     "model_module_version": "1.5.0",
     "model_name": "HBoxModel",
     "state": {
      "_dom_classes": [],
      "_model_module": "@jupyter-widgets/controls",
      "_model_module_version": "1.5.0",
      "_model_name": "HBoxModel",
      "_view_count": null,
      "_view_module": "@jupyter-widgets/controls",
      "_view_module_version": "1.5.0",
      "_view_name": "HBoxView",
      "box_style": "",
      "children": [
       "IPY_MODEL_211d891f16f948e39d84298aeac83366",
       "IPY_MODEL_6fc49a640bf04b53b611503483b45b7f",
       "IPY_MODEL_bed71e3648ae4224a7f800c0d553f2ea"
      ],
      "layout": "IPY_MODEL_cfdc9461800f482189dbb7c2c0563108"
     }
    },
    "d70e997c5a2d4f99b2f5df5b6616147b": {
     "model_module": "@jupyter-widgets/controls",
     "model_module_version": "1.5.0",
     "model_name": "DescriptionStyleModel",
     "state": {
      "_model_module": "@jupyter-widgets/controls",
      "_model_module_version": "1.5.0",
      "_model_name": "DescriptionStyleModel",
      "_view_count": null,
      "_view_module": "@jupyter-widgets/base",
      "_view_module_version": "1.2.0",
      "_view_name": "StyleView",
      "description_width": ""
     }
    },
    "d8f143cded224798862d9e74c67374a2": {
     "model_module": "@jupyter-widgets/controls",
     "model_module_version": "1.5.0",
     "model_name": "DescriptionStyleModel",
     "state": {
      "_model_module": "@jupyter-widgets/controls",
      "_model_module_version": "1.5.0",
      "_model_name": "DescriptionStyleModel",
      "_view_count": null,
      "_view_module": "@jupyter-widgets/base",
      "_view_module_version": "1.2.0",
      "_view_name": "StyleView",
      "description_width": ""
     }
    },
    "ddf083d7047d4ce995e5f033af37ab68": {
     "model_module": "@jupyter-widgets/controls",
     "model_module_version": "1.5.0",
     "model_name": "HBoxModel",
     "state": {
      "_dom_classes": [],
      "_model_module": "@jupyter-widgets/controls",
      "_model_module_version": "1.5.0",
      "_model_name": "HBoxModel",
      "_view_count": null,
      "_view_module": "@jupyter-widgets/controls",
      "_view_module_version": "1.5.0",
      "_view_name": "HBoxView",
      "box_style": "",
      "children": [
       "IPY_MODEL_9c516c8ee1da4e4f836f48a6ed636366",
       "IPY_MODEL_d51660f7708f474ba48a5f31751ca6ab",
       "IPY_MODEL_8f32d7860a854a93937c82227c167458"
      ],
      "layout": "IPY_MODEL_b6c1eee219a041c7a5aab420d2a1fe74"
     }
    },
    "ed968a2edf7646b6b1c62102bec74c30": {
     "model_module": "@jupyter-widgets/controls",
     "model_module_version": "1.5.0",
     "model_name": "DescriptionStyleModel",
     "state": {
      "_model_module": "@jupyter-widgets/controls",
      "_model_module_version": "1.5.0",
      "_model_name": "DescriptionStyleModel",
      "_view_count": null,
      "_view_module": "@jupyter-widgets/base",
      "_view_module_version": "1.2.0",
      "_view_name": "StyleView",
      "description_width": ""
     }
    },
    "fd7ac59fcf554011ab4f7f596dc031cf": {
     "model_module": "@jupyter-widgets/base",
     "model_module_version": "1.2.0",
     "model_name": "LayoutModel",
     "state": {
      "_model_module": "@jupyter-widgets/base",
      "_model_module_version": "1.2.0",
      "_model_name": "LayoutModel",
      "_view_count": null,
      "_view_module": "@jupyter-widgets/base",
      "_view_module_version": "1.2.0",
      "_view_name": "LayoutView",
      "align_content": null,
      "align_items": null,
      "align_self": null,
      "border": null,
      "bottom": null,
      "display": null,
      "flex": null,
      "flex_flow": null,
      "grid_area": null,
      "grid_auto_columns": null,
      "grid_auto_flow": null,
      "grid_auto_rows": null,
      "grid_column": null,
      "grid_gap": null,
      "grid_row": null,
      "grid_template_areas": null,
      "grid_template_columns": null,
      "grid_template_rows": null,
      "height": null,
      "justify_content": null,
      "justify_items": null,
      "left": null,
      "margin": null,
      "max_height": null,
      "max_width": null,
      "min_height": null,
      "min_width": null,
      "object_fit": null,
      "object_position": null,
      "order": null,
      "overflow": null,
      "overflow_x": null,
      "overflow_y": null,
      "padding": null,
      "right": null,
      "top": null,
      "visibility": null,
      "width": null
     }
    }
   }
  }
 },
 "nbformat": 4,
 "nbformat_minor": 1
}
